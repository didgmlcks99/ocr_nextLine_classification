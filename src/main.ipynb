{
 "cells": [
  {
   "cell_type": "code",
   "execution_count": 1,
   "metadata": {},
   "outputs": [],
   "source": [
    "# 0 := delete \\n\n",
    "# 1 := leave as it is\n",
    "\n",
    "# model = gensim.models.Word2Vec.load('../../../pretrained_model/kor/ko.bin')\n",
    "\n",
    "# from hangul_utils import split_syllables, join_jamos\n",
    "# import gensim"
   ]
  },
  {
   "cell_type": "code",
   "execution_count": 2,
   "metadata": {},
   "outputs": [],
   "source": [
    "import torch\n",
    "from sklearn.model_selection import train_test_split\n",
    "\n",
    "from torch.utils.tensorboard import SummaryWriter\n",
    "from datetime import datetime\n",
    "\n",
    "import data\n",
    "import bpe\n",
    "import utils\n",
    "import pretrained_model as pm\n",
    "import data_loader as dl\n",
    "import trainer\n",
    "import initializer as init"
   ]
  },
  {
   "cell_type": "code",
   "execution_count": 3,
   "metadata": {},
   "outputs": [],
   "source": [
    "# df = data.getInitData()\n",
    "# data.mk_initData(df)\n",
    "# first_np, second_np, label_np = utils.process(df)"
   ]
  },
  {
   "cell_type": "code",
   "execution_count": 4,
   "metadata": {},
   "outputs": [],
   "source": [
    "first_np, second_np, label_np  = data.getData()\n",
    "first_np, second_np = utils.process_splitted(first_np, second_np)\n",
    "first_ls, second_ls, ch2idx, max_len = utils.tokenize(first_np, second_np)\n",
    "first2idx_np, second2idx_np = utils.encode(first_ls, second_ls, ch2idx, max_len)"
   ]
  },
  {
   "cell_type": "code",
   "execution_count": 5,
   "metadata": {},
   "outputs": [
    {
     "name": "stdout",
     "output_type": "stream",
     "text": [
      "There are 27 / 132 pretrained vectors found.\n"
     ]
    }
   ],
   "source": [
    "pretrained_word2vec = pm.load_pretrained_model(ch2idx)\n",
    "pretrained_word2vec = torch.tensor(pretrained_word2vec)"
   ]
  },
  {
   "cell_type": "code",
   "execution_count": 6,
   "metadata": {},
   "outputs": [],
   "source": [
    "train_first, test_first, train_second, test_second, train_labels, test_labels = train_test_split(\n",
    "    first2idx_np, second2idx_np, label_np, test_size = 0.1, random_state = 43\n",
    ")\n",
    "\n",
    "train_first, val_first, train_second, val_second, train_labels, val_labels = train_test_split(\n",
    "    train_first, train_second, train_labels, test_size = 0.1, random_state = 43\n",
    ")"
   ]
  },
  {
   "cell_type": "code",
   "execution_count": 7,
   "metadata": {},
   "outputs": [],
   "source": [
    "train_dataloader, val_dataloader, test_dataloader = dl.data_loader(train_first,\n",
    "                                                                   train_second,\n",
    "                                                                   val_first,\n",
    "                                                                   val_second,\n",
    "                                                                   test_first,\n",
    "                                                                   test_second,\n",
    "                                                                   train_labels,\n",
    "                                                                   val_labels,\n",
    "                                                                   test_labels,\n",
    "                                                                   batch_size=50)"
   ]
  },
  {
   "cell_type": "code",
   "execution_count": 8,
   "metadata": {},
   "outputs": [
    {
     "name": "stdout",
     "output_type": "stream",
     "text": [
      "There are 1 GPU(s) available.\n",
      "Device name: NVIDIA GeForce RTX 3070\n"
     ]
    }
   ],
   "source": [
    "# PyTorch TensorBoard support\n",
    "timestamp = datetime.now().strftime('%Y%m%d_%H%M%S')\n",
    "writer = SummaryWriter('ocr/tests')\n",
    "\n",
    "if torch.cuda.is_available():       \n",
    "    device = torch.device(\"cuda\")\n",
    "    print(f'There are {torch.cuda.device_count()} GPU(s) available.')\n",
    "    print('Device name:', torch.cuda.get_device_name(0))\n",
    "\n",
    "else:\n",
    "    print('No GPU available, using the CPU instead.')\n",
    "    device = torch.device(\"cpu\")"
   ]
  },
  {
   "cell_type": "code",
   "execution_count": 9,
   "metadata": {},
   "outputs": [
    {
     "name": "stdout",
     "output_type": "stream",
     "text": [
      "doing with pretrained model!!!\n",
      "OCR(\n",
      "  (emb): Embedding(132, 200)\n",
      "  (lstm1): RNN(\n",
      "    (rnn): LSTM(200, 100, batch_first=True, bidirectional=True)\n",
      "  )\n",
      "  (lstm2): RNN(\n",
      "    (rnn): LSTM(200, 100, batch_first=True, bidirectional=True)\n",
      "  )\n",
      "  (fc1): Linear(in_features=400, out_features=300, bias=True)\n",
      "  (fc2): Linear(in_features=300, out_features=2, bias=True)\n",
      "  (dropout): Dropout(p=0.0, inplace=False)\n",
      ")\n"
     ]
    }
   ],
   "source": [
    "trainer.set_seed(42)\n",
    "\n",
    "model, optimizer, loss_fn = init.initialize_model(\n",
    "    vocab_size=len(ch2idx),\n",
    "    embed_dim=200,\n",
    "    hidden_size=100,\n",
    "    num_classes=2,\n",
    "    rnn_layers=1,\n",
    "    dropout=0.0,\n",
    "    learning_rate=0.001,\n",
    "    model_name=\"RNN\",\n",
    "    optim_name=\"Adam\",\n",
    "    loss_fn_name=\"CEL\",\n",
    "    pretrained_model=pretrained_word2vec,\n",
    "    freeze_embedding=False,\n",
    "    device=device,\n",
    ")\n",
    "\n",
    "print(model)"
   ]
  },
  {
   "cell_type": "code",
   "execution_count": 10,
   "metadata": {},
   "outputs": [
    {
     "name": "stdout",
     "output_type": "stream",
     "text": [
      "Start training...\n",
      "\n",
      " Epoch  |  Train Loss  | Train Acc  | Val Loss | Val Acc | Elapsed\n",
      "--------------------------------------------------------------------------------\n",
      "   1    |   0.693250   | 50.716049  | 0.693138 | 50.26  | 71.53 \n",
      "   2    |   0.693257   | 50.057613  | 0.693178 | 50.26  | 71.41 \n",
      "   3    |   0.693262   | 49.884774  | 0.693138 | 50.26  | 71.86 \n",
      "   4    |   0.693214   | 49.806584  | 0.693175 | 49.74  | 72.44 \n",
      "   5    |   0.693260   | 49.353909  | 0.693147 | 50.26  | 71.94 \n",
      "   6    |   0.693201   | 49.152263  | 0.693178 | 49.74  | 70.55 \n",
      "   7    |   0.693150   | 49.753086  | 0.693134 | 50.26  | 71.75 \n",
      "   8    |   0.693169   | 49.769547  | 0.693150 | 49.74  | 71.70 \n",
      "   9    |   0.693138   | 49.995885  | 0.693151 | 50.26  | 71.99 \n",
      "  10    |   0.693176   | 49.987654  | 0.693185 | 49.74  | 71.89 \n",
      "  11    |   0.693162   | 49.995885  | 0.693183 | 49.74  | 71.67 \n",
      "  12    |   0.693143   | 50.176955  | 0.693298 | 49.74  | 71.23 \n",
      "  13    |   0.693169   | 50.098765  | 0.693139 | 50.26  | 71.74 \n",
      "  14    |   0.693179   | 49.893004  | 0.693187 | 49.74  | 72.51 \n",
      "  15    |   0.693170   | 50.004115  | 0.693181 | 49.74  | 72.20 \n",
      "  16    |   0.693176   | 49.958848  | 0.693135 | 50.26  | 72.18 \n",
      "  17    |   0.693165   | 49.818930  | 0.693158 | 50.26  | 71.09 \n",
      "  18    |   0.693155   | 50.246914  | 0.693203 | 49.74  | 71.44 \n",
      "  19    |   0.693184   | 49.493827  | 0.693213 | 49.74  | 71.26 \n",
      "  20    |   0.693173   | 49.403292  | 0.693183 | 49.74  | 71.72 \n",
      "\n",
      "\n",
      "Training complete! Best accuracy: 50.26%.\n"
     ]
    }
   ],
   "source": [
    "trainer.train(\n",
    "    epochs=20,\n",
    "    title='test1',\n",
    "    writer=writer,\n",
    "    train_dataloader=train_dataloader,\n",
    "    val_dataloader=val_dataloader,\n",
    "    device=device,\n",
    "    model=model,\n",
    "    optimizer=optimizer,\n",
    "    loss_fn=loss_fn\n",
    ")"
   ]
  },
  {
   "cell_type": "code",
   "execution_count": null,
   "metadata": {},
   "outputs": [],
   "source": []
  }
 ],
 "metadata": {
  "kernelspec": {
   "display_name": "Python 3.9.9 64-bit",
   "language": "python",
   "name": "python3"
  },
  "language_info": {
   "codemirror_mode": {
    "name": "ipython",
    "version": 3
   },
   "file_extension": ".py",
   "mimetype": "text/x-python",
   "name": "python",
   "nbconvert_exporter": "python",
   "pygments_lexer": "ipython3",
   "version": "3.9.9"
  },
  "orig_nbformat": 4,
  "vscode": {
   "interpreter": {
    "hash": "397704579725e15f5c7cb49fe5f0341eb7531c82d19f2c29d197e8b64ab5776b"
   }
  }
 },
 "nbformat": 4,
 "nbformat_minor": 2
}
