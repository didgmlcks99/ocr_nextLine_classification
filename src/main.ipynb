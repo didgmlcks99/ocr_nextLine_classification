{
 "cells": [
  {
   "cell_type": "code",
   "execution_count": 1,
   "metadata": {},
   "outputs": [],
   "source": [
    "# 0 := delete \\n\n",
    "# 1 := leave as it is\n",
    "\n",
    "# model = gensim.models.Word2Vec.load('../../../pretrained_model/kor/ko.bin')\n",
    "\n",
    "# from hangul_utils import split_syllables, join_jamos\n",
    "# import gensim"
   ]
  },
  {
   "cell_type": "code",
   "execution_count": 2,
   "metadata": {},
   "outputs": [],
   "source": [
    "import torch\n",
    "from sklearn.model_selection import train_test_split\n",
    "import pandas as pd\n",
    "\n",
    "from torch.utils.tensorboard import SummaryWriter\n",
    "from datetime import datetime\n",
    "\n",
    "import timeit\n",
    "\n",
    "import data\n",
    "import bpe\n",
    "import utils\n",
    "import pretrained_model as pm\n",
    "import data_loader as dl\n",
    "import trainer\n",
    "import initializer as init\n",
    "import tester\n",
    "import model_util as mu"
   ]
  },
  {
   "cell_type": "code",
   "execution_count": 3,
   "metadata": {},
   "outputs": [
    {
     "name": "stdout",
     "output_type": "stream",
     "text": [
      "avg length / 5: 16\n",
      "avg length / 5: 16\n"
     ]
    }
   ],
   "source": [
    "first_np, second_np, label_np  = data.getData(0)\n",
    "\n",
    "no_first_np, no_second_np, no_label_np  = data.getData(1)"
   ]
  },
  {
   "cell_type": "code",
   "execution_count": 4,
   "metadata": {},
   "outputs": [
    {
     "name": "stdout",
     "output_type": "stream",
     "text": [
      "linearized complete!\n",
      "linearized complete!\n"
     ]
    }
   ],
   "source": [
    "first_np, second_np = utils.process_splitted(first_np, second_np)\n",
    "\n",
    "no_first_np, no_second_np = utils.process_splitted(no_first_np, no_second_np)"
   ]
  },
  {
   "cell_type": "code",
   "execution_count": 5,
   "metadata": {},
   "outputs": [
    {
     "name": "stdout",
     "output_type": "stream",
     "text": [
      "done tokenizing both data!\n",
      "saved ch2idx to file!\n",
      "encoding comlete!\n",
      "done tokenizing both data!\n",
      "saved ch2idx to file!\n",
      "encoding comlete!\n"
     ]
    }
   ],
   "source": [
    "no_first_ls, no_second_ls, no_ch2idx, no_max_len = utils.tokenize(no_first_np, no_second_np, '/split/ch2idx_split_yesgudu')\n",
    "no_first2idx_np, no_second2idx_np = utils.encode(no_first_ls, no_second_ls, no_ch2idx, no_max_len)\n",
    "\n",
    "first_ls, second_ls, ch2idx, max_len = utils.tokenize(first_np, second_np, '/split/ch2idx_split_nogudu')\n",
    "first2idx_np, second2idx_np = utils.encode(first_ls, second_ls, ch2idx, max_len)"
   ]
  },
  {
   "cell_type": "code",
   "execution_count": 6,
   "metadata": {},
   "outputs": [],
   "source": [
    "# pretrained_word2vec = pm.load_pretrained_model(ch2idx)\n",
    "# pretrained_word2vec = torch.tensor(pretrained_word2vec)"
   ]
  },
  {
   "cell_type": "code",
   "execution_count": 7,
   "metadata": {},
   "outputs": [],
   "source": [
    "train_first, test_first, train_second, test_second, train_labels, test_labels = train_test_split(\n",
    "    first2idx_np, second2idx_np, label_np, test_size = 0.1, random_state = 43\n",
    ")\n",
    "\n",
    "train_first, val_first, train_second, val_second, train_labels, val_labels = train_test_split(\n",
    "    train_first, train_second, train_labels, test_size = 0.1, random_state = 43\n",
    ")\n",
    "\n",
    "no_train_first, no_test_first, no_train_second, no_test_second, no_train_labels, no_test_labels = train_test_split(\n",
    "    no_first2idx_np, no_second2idx_np, no_label_np, test_size = 0.1, random_state = 43\n",
    ")\n",
    "\n",
    "no_train_first, no_val_first, no_train_second, no_val_second, no_train_labels, no_val_labels = train_test_split(\n",
    "    no_train_first, no_train_second, no_train_labels, test_size = 0.1, random_state = 43\n",
    ")"
   ]
  },
  {
   "cell_type": "code",
   "execution_count": 8,
   "metadata": {},
   "outputs": [],
   "source": [
    "train_dataloader, val_dataloader, test_dataloader = dl.data_loader(\n",
    "                                                                   train_first,\n",
    "                                                                   train_second,\n",
    "                                                                   val_first,\n",
    "                                                                   val_second,\n",
    "                                                                   test_first,\n",
    "                                                                   test_second,\n",
    "                                                                   train_labels,\n",
    "                                                                   val_labels,\n",
    "                                                                   test_labels,\n",
    "                                                                   batch_size=100)\n",
    "\n",
    "no_train_dataloader, no_val_dataloader, no_test_dataloader = dl.data_loader(\n",
    "                                                                   no_train_first,\n",
    "                                                                   no_train_second,\n",
    "                                                                   no_val_first,\n",
    "                                                                   no_val_second,\n",
    "                                                                   no_test_first,\n",
    "                                                                   no_test_second,\n",
    "                                                                   no_train_labels,\n",
    "                                                                   no_val_labels,\n",
    "                                                                   no_test_labels,\n",
    "                                                                   batch_size=100)"
   ]
  },
  {
   "cell_type": "code",
   "execution_count": 9,
   "metadata": {},
   "outputs": [],
   "source": [
    "# PyTorch TensorBoard support\n",
    "timestamp = datetime.now().strftime('%Y%m%d_%H%M%S')\n",
    "writer = SummaryWriter('../tensorboard/final/split')"
   ]
  },
  {
   "cell_type": "code",
   "execution_count": 10,
   "metadata": {},
   "outputs": [
    {
     "name": "stdout",
     "output_type": "stream",
     "text": [
      "There are 1 GPU(s) available.\n",
      "Device name: NVIDIA GeForce RTX 3070\n"
     ]
    }
   ],
   "source": [
    "if torch.cuda.is_available():       \n",
    "    device = torch.device(\"cuda\")\n",
    "    print(f'There are {torch.cuda.device_count()} GPU(s) available.')\n",
    "    print('Device name:', torch.cuda.get_device_name(0))\n",
    "\n",
    "else:\n",
    "    print('No GPU available, using the CPU instead.')\n",
    "    device = torch.device(\"cpu\")"
   ]
  },
  {
   "cell_type": "code",
   "execution_count": 11,
   "metadata": {},
   "outputs": [],
   "source": [
    "# ====================\n",
    "# set parameters here\n",
    "# ====================\n",
    "\n",
    "title = 'split_test_3_'\n",
    "epochs = 40\n",
    "\n",
    "vocab_size=len(ch2idx)\n",
    "embed_dim = 100\n",
    "hidden_size = 200\n",
    "num_classes = 2\n",
    "rnn_layers = 1\n",
    "\n",
    "num_filters = [100, 200, 100]\n",
    "kernel_sizes = [15, 21, 114]\n",
    "\n",
    "dropout = 0.2\n",
    "\n",
    "learning_rate = 0.001\n",
    "weight_decay = 1e-4\n",
    "\n",
    "model_name=\"RNN\"\n",
    "optim_name=\"Adam\"\n",
    "loss_fn_name=\"CEL\"\n",
    "\n",
    "pretrained_model=None\n",
    "freeze_embedding=False,"
   ]
  },
  {
   "cell_type": "code",
   "execution_count": 12,
   "metadata": {},
   "outputs": [
    {
     "name": "stdout",
     "output_type": "stream",
     "text": [
      "doing without pretrained model!!!\n"
     ]
    },
    {
     "name": "stderr",
     "output_type": "stream",
     "text": [
      "/home/arise/anaconda3/lib/python3.9/site-packages/torch/nn/modules/rnn.py:62: UserWarning: dropout option adds dropout after all but last recurrent layer, so non-zero dropout expects num_layers greater than 1, but got dropout=0.2 and num_layers=1\n",
      "  warnings.warn(\"dropout option adds dropout after all but last \"\n"
     ]
    },
    {
     "name": "stdout",
     "output_type": "stream",
     "text": [
      "OCR_rnn(\n",
      "  (emb): Embedding(121, 100)\n",
      "  (lstm1): RNN(\n",
      "    (rnn): LSTM(100, 200, batch_first=True, dropout=0.2, bidirectional=True)\n",
      "  )\n",
      "  (lstm2): RNN(\n",
      "    (rnn): LSTM(100, 200, batch_first=True, dropout=0.2, bidirectional=True)\n",
      "  )\n",
      "  (fc1): Linear(in_features=800, out_features=300, bias=True)\n",
      "  (fc2): Linear(in_features=300, out_features=2, bias=True)\n",
      "  (dp1): Dropout(p=0.2, inplace=False)\n",
      "  (dp2): Dropout(p=0.2, inplace=False)\n",
      ")\n"
     ]
    }
   ],
   "source": [
    "trainer.set_seed(42)\n",
    "\n",
    "model, optimizer, loss_fn = init.initialize_model(\n",
    "    vocab_size=vocab_size,\n",
    "    embed_dim=embed_dim,\n",
    "    hidden_size=hidden_size,\n",
    "    num_classes=num_classes,\n",
    "    rnn_layers=rnn_layers,\n",
    "    num_filters=num_filters,\n",
    "    kernel_sizes=kernel_sizes,\n",
    "    dropout=dropout,\n",
    "    learning_rate=learning_rate,\n",
    "    weight_decay=weight_decay,\n",
    "    model_name=model_name,\n",
    "    optim_name=optim_name,\n",
    "    loss_fn_name=loss_fn_name,\n",
    "    pretrained_model=pretrained_model,\n",
    "    freeze_embedding=freeze_embedding,\n",
    "    device=device,\n",
    ")\n",
    "\n",
    "print(model)"
   ]
  },
  {
   "cell_type": "code",
   "execution_count": 13,
   "metadata": {},
   "outputs": [
    {
     "name": "stdout",
     "output_type": "stream",
     "text": [
      "Start training...\n",
      "\n",
      " Epoch  |  Train Loss  | Train Acc  | Val Loss | Val Acc | Elapsed\n",
      "--------------------------------------------------------------------------------\n",
      "   1    |   0.011821   | 99.654321  | 0.000096 | 100.00 |  5.05 \n",
      "   2    |   0.001056   | 99.987654  | 0.000211 | 100.00 |  5.08 \n",
      "   3    |   0.000842   | 99.991770  | 0.000060 | 100.00 |  5.16 \n",
      "   4    |   0.002184   | 99.958848  | 0.000040 | 100.00 |  5.07 \n",
      "   5    |   0.001038   | 99.991770  | 0.000225 | 100.00 |  5.17 \n",
      "   6    |   0.001364   | 99.983539  | 0.000114 | 100.00 |  5.14 \n",
      "   7    |   0.001094   | 99.987654  | 0.000074 | 100.00 |  5.16 \n",
      "   8    |   0.001071   | 99.991770  | 0.000279 | 100.00 |  5.12 \n",
      "   9    |   0.000998   | 99.991770  | 0.000077 | 100.00 |  5.18 \n",
      "  10    |   0.001109   | 99.987654  | 0.000065 | 100.00 |  5.19 \n",
      "  11    |   0.001241   | 99.991770  | 0.000072 | 100.00 |  5.05 \n",
      "  12    |   0.001108   | 99.987654  | 0.000036 | 100.00 |  5.08 \n",
      "  13    |   0.001102   | 99.991770  | 0.000087 | 100.00 |  5.18 \n",
      "  14    |   0.001064   | 99.991770  | 0.000074 | 100.00 |  5.07 \n",
      "  15    |   0.001098   | 99.987654  | 0.001169 | 100.00 |  5.18 \n",
      "  16    |   0.001188   | 99.991770  | 0.000031 | 100.00 |  5.17 \n",
      "  17    |   0.001026   | 99.991770  | 0.000108 | 100.00 |  5.18 \n",
      "  18    |   0.001158   | 99.987654  | 0.000088 | 100.00 |  5.19 \n",
      "  19    |   0.001110   | 99.991770  | 0.000060 | 100.00 |  5.07 \n",
      "  20    |   0.000723   | 99.991770  | 0.000053 | 100.00 |  5.07 \n",
      "  21    |   0.001078   | 99.987654  | 0.000068 | 100.00 |  5.03 \n",
      "  22    |   0.001030   | 99.991770  | 0.000078 | 100.00 |  5.08 \n",
      "  23    |   0.000993   | 99.987654  | 0.001083 | 100.00 |  5.13 \n",
      "  24    |   0.000819   | 99.991770  | 0.000052 | 100.00 |  5.08 \n",
      "  25    |   0.001579   | 99.962963  | 0.000002 | 100.00 |  5.01 \n",
      "  26    |   0.001238   | 99.991770  | 0.000088 | 100.00 |  5.07 \n",
      "  27    |   0.001018   | 99.991770  | 0.000131 | 100.00 |  5.09 \n",
      "  28    |   0.000896   | 99.991770  | 0.000094 | 100.00 |  5.08 \n",
      "  29    |   0.000992   | 99.991770  | 0.000087 | 100.00 |  5.07 \n",
      "  30    |   0.001030   | 99.987654  | 0.000103 | 100.00 |  5.05 \n",
      "  31    |   0.001001   | 99.991770  | 0.000096 | 100.00 |  5.06 \n",
      "  32    |   0.001004   | 99.991770  | 0.000354 | 100.00 |  5.06 \n",
      "  33    |   0.001078   | 99.991770  | 0.000360 | 100.00 |  5.09 \n",
      "  34    |   0.001044   | 99.991770  | 0.000083 | 100.00 |  5.06 \n",
      "  35    |   0.001008   | 99.991770  | 0.000095 | 100.00 |  5.09 \n",
      "  36    |   0.000997   | 99.991770  | 0.000102 | 100.00 |  5.07 \n",
      "  37    |   0.000967   | 99.991770  | 0.000074 | 100.00 |  5.08 \n",
      "  38    |   0.001133   | 99.991770  | 0.000082 | 100.00 |  5.08 \n",
      "  39    |   0.001023   | 99.991770  | 0.000087 | 100.00 |  5.06 \n",
      "  40    |   0.000946   | 99.991770  | 0.000080 | 100.00 |  5.08 \n",
      "\n",
      "\n",
      "Training complete! Best accuracy: 100.00%.\n"
     ]
    }
   ],
   "source": [
    "start_time = timeit.default_timer()\n",
    "\n",
    "trainer.train(\n",
    "    epochs=epochs,\n",
    "    title=title+'yes_gudu',\n",
    "    writer=writer,\n",
    "    train_dataloader=train_dataloader,\n",
    "    val_dataloader=val_dataloader,\n",
    "    device=device,\n",
    "    model=model,\n",
    "    optimizer=optimizer,\n",
    "    loss_fn=loss_fn\n",
    ")\n",
    "\n",
    "end_time = (timeit.default_timer() - start_time) / 60.0"
   ]
  },
  {
   "cell_type": "code",
   "execution_count": 14,
   "metadata": {},
   "outputs": [],
   "source": [
    "mu.saveModel(title+'yes_gudu', model)"
   ]
  },
  {
   "cell_type": "code",
   "execution_count": 15,
   "metadata": {},
   "outputs": [
    {
     "name": "stdout",
     "output_type": "stream",
     "text": [
      "OCR_rnn(\n",
      "  (emb): Embedding(121, 100)\n",
      "  (lstm1): RNN(\n",
      "    (rnn): LSTM(100, 200, batch_first=True, dropout=0.2, bidirectional=True)\n",
      "  )\n",
      "  (lstm2): RNN(\n",
      "    (rnn): LSTM(100, 200, batch_first=True, dropout=0.2, bidirectional=True)\n",
      "  )\n",
      "  (fc1): Linear(in_features=800, out_features=300, bias=True)\n",
      "  (fc2): Linear(in_features=300, out_features=2, bias=True)\n",
      "  (dp1): Dropout(p=0.2, inplace=False)\n",
      "  (dp2): Dropout(p=0.2, inplace=False)\n",
      ")\n"
     ]
    }
   ],
   "source": [
    "model = mu.getModel(title+'yes_gudu')\n",
    "print(model)"
   ]
  },
  {
   "cell_type": "code",
   "execution_count": 16,
   "metadata": {},
   "outputs": [
    {
     "name": "stdout",
     "output_type": "stream",
     "text": [
      "test loss:  3.193044726053874\n",
      "test acc:  49.766666666666666\n",
      "saved precision and recall results to file!\n"
     ]
    }
   ],
   "source": [
    "loss, acc = tester.test(test_dataloader=no_test_dataloader,\n",
    "                        device=device,\n",
    "                        model=model,\n",
    "                        title=title+'yes_gudu')"
   ]
  },
  {
   "cell_type": "code",
   "execution_count": 17,
   "metadata": {},
   "outputs": [],
   "source": [
    "with open('../result/final_split', 'a') as f:\n",
    "        text = title + '\\t |\\tloss: ' + str(loss) + '\\t |\\tacc: ' + str(acc) + '\\t |\\t time: ' + str(round(end_time, 3)) + ' min\\n'\n",
    "        f.write(text)"
   ]
  },
  {
   "cell_type": "code",
   "execution_count": 18,
   "metadata": {},
   "outputs": [
    {
     "name": "stdout",
     "output_type": "stream",
     "text": [
      "uploaded model graph to tensorboard!\n"
     ]
    }
   ],
   "source": [
    "mu.graphModel(train_dataloader, model, writer)"
   ]
  },
  {
   "cell_type": "code",
   "execution_count": 19,
   "metadata": {},
   "outputs": [
    {
     "name": "stdout",
     "output_type": "stream",
     "text": [
      "doing without pretrained model!!!\n",
      "OCR_rnn(\n",
      "  (emb): Embedding(121, 100)\n",
      "  (lstm1): RNN(\n",
      "    (rnn): LSTM(100, 200, batch_first=True, dropout=0.2, bidirectional=True)\n",
      "  )\n",
      "  (lstm2): RNN(\n",
      "    (rnn): LSTM(100, 200, batch_first=True, dropout=0.2, bidirectional=True)\n",
      "  )\n",
      "  (fc1): Linear(in_features=800, out_features=300, bias=True)\n",
      "  (fc2): Linear(in_features=300, out_features=2, bias=True)\n",
      "  (dp1): Dropout(p=0.2, inplace=False)\n",
      "  (dp2): Dropout(p=0.2, inplace=False)\n",
      ")\n"
     ]
    },
    {
     "name": "stderr",
     "output_type": "stream",
     "text": [
      "/home/arise/anaconda3/lib/python3.9/site-packages/torch/nn/modules/rnn.py:62: UserWarning: dropout option adds dropout after all but last recurrent layer, so non-zero dropout expects num_layers greater than 1, but got dropout=0.2 and num_layers=1\n",
      "  warnings.warn(\"dropout option adds dropout after all but last \"\n"
     ]
    }
   ],
   "source": [
    "trainer.set_seed(42)\n",
    "\n",
    "no_model, no_optimizer, no_loss_fn = init.initialize_model(\n",
    "    vocab_size=vocab_size,\n",
    "    embed_dim=embed_dim,\n",
    "    hidden_size=hidden_size,\n",
    "    num_classes=num_classes,\n",
    "    rnn_layers=rnn_layers,\n",
    "    num_filters=num_filters,\n",
    "    kernel_sizes=kernel_sizes,\n",
    "    dropout=dropout,\n",
    "    learning_rate=learning_rate,\n",
    "    weight_decay=weight_decay,\n",
    "    model_name=model_name,\n",
    "    optim_name=optim_name,\n",
    "    loss_fn_name=loss_fn_name,\n",
    "    pretrained_model=pretrained_model,\n",
    "    freeze_embedding=freeze_embedding,\n",
    "    device=device,\n",
    ")\n",
    "\n",
    "print(no_model)"
   ]
  },
  {
   "cell_type": "code",
   "execution_count": 20,
   "metadata": {},
   "outputs": [
    {
     "name": "stdout",
     "output_type": "stream",
     "text": [
      "Start training...\n",
      "\n",
      " Epoch  |  Train Loss  | Train Acc  | Val Loss | Val Acc | Elapsed\n",
      "--------------------------------------------------------------------------------\n",
      "   1    |   0.033917   | 99.082305  | 0.012442 | 99.56  |  5.02 \n",
      "   2    |   0.016559   | 99.588477  | 0.009699 | 99.78  |  4.96 \n",
      "   3    |   0.015139   | 99.621399  | 0.009561 | 99.56  |  5.00 \n",
      "   4    |   0.012693   | 99.670782  | 0.007856 | 99.78  |  4.97 \n",
      "   5    |   0.011377   | 99.728395  | 0.009561 | 99.74  |  4.94 \n",
      "   6    |   0.012337   | 99.691358  | 0.007575 | 99.74  |  4.96 \n",
      "   7    |   0.012683   | 99.703704  | 0.009154 | 99.74  |  4.96 \n",
      "   8    |   0.011493   | 99.687243  | 0.009352 | 99.70  |  5.07 \n",
      "   9    |   0.012844   | 99.666667  | 0.007761 | 99.74  |  5.01 \n",
      "  10    |   0.011115   | 99.679012  | 0.008377 | 99.78  |  4.95 \n",
      "  11    |   0.010660   | 99.716049  | 0.007208 | 99.81  |  5.00 \n",
      "  12    |   0.010770   | 99.711934  | 0.008695 | 99.81  |  4.98 \n",
      "  13    |   0.010019   | 99.761317  | 0.009018 | 99.78  |  4.93 \n",
      "  14    |   0.010269   | 99.720165  | 0.010233 | 99.78  |  5.03 \n",
      "  15    |   0.010383   | 99.753086  | 0.008280 | 99.78  |  5.03 \n",
      "  16    |   0.010502   | 99.736626  | 0.008138 | 99.74  |  4.97 \n",
      "  17    |   0.009605   | 99.769547  | 0.007864 | 99.81  |  4.98 \n",
      "  18    |   0.010066   | 99.720165  | 0.010609 | 99.78  |  4.98 \n",
      "  19    |   0.009811   | 99.753086  | 0.007463 | 99.70  |  5.02 \n",
      "  20    |   0.008335   | 99.814815  | 0.011135 | 99.67  |  5.01 \n",
      "  21    |   0.009357   | 99.732510  | 0.008983 | 99.78  |  4.99 \n",
      "  22    |   0.008852   | 99.769547  | 0.008752 | 99.74  |  4.99 \n",
      "  23    |   0.009796   | 99.744856  | 0.012319 | 99.67  |  4.96 \n",
      "  24    |   0.008420   | 99.781893  | 0.007703 | 99.74  |  5.00 \n",
      "  25    |   0.008606   | 99.794239  | 0.008479 | 99.78  |  5.02 \n",
      "  26    |   0.008796   | 99.773663  | 0.008544 | 99.85  |  4.99 \n",
      "  27    |   0.008864   | 99.753086  | 0.007801 | 99.81  |  5.04 \n",
      "  28    |   0.007897   | 99.798354  | 0.010001 | 99.85  |  5.00 \n",
      "  29    |   0.007754   | 99.790123  | 0.010845 | 99.70  |  5.02 \n",
      "  30    |   0.008842   | 99.798354  | 0.007099 | 99.81  |  5.01 \n",
      "  31    |   0.008732   | 99.790123  | 0.007612 | 99.85  |  4.94 \n",
      "  32    |   0.007719   | 99.818930  | 0.009807 | 99.74  |  4.99 \n",
      "  33    |   0.006956   | 99.843621  | 0.011277 | 99.67  |  5.05 \n",
      "  34    |   0.007232   | 99.818930  | 0.006871 | 99.89  |  4.93 \n",
      "  35    |   0.007975   | 99.823045  | 0.011313 | 99.70  |  4.97 \n",
      "  36    |   0.008616   | 99.794239  | 0.011222 | 99.74  |  4.97 \n",
      "  37    |   0.007412   | 99.823045  | 0.009740 | 99.78  |  4.97 \n",
      "  38    |   0.006888   | 99.806584  | 0.008416 | 99.85  |  4.89 \n",
      "  39    |   0.007766   | 99.806584  | 0.008593 | 99.78  |  4.97 \n",
      "  40    |   0.007124   | 99.835391  | 0.007353 | 99.85  |  5.00 \n",
      "\n",
      "\n",
      "Training complete! Best accuracy: 99.89%.\n"
     ]
    }
   ],
   "source": [
    "\n",
    "start_time = timeit.default_timer()\n",
    "\n",
    "trainer.train(\n",
    "    epochs=epochs,\n",
    "    title=title+'no_gudu',\n",
    "    writer=writer,\n",
    "    train_dataloader=no_train_dataloader,\n",
    "    val_dataloader=no_val_dataloader,\n",
    "    device=device,\n",
    "    model=no_model,\n",
    "    optimizer=no_optimizer,\n",
    "    loss_fn=no_loss_fn\n",
    ")\n",
    "\n",
    "end_time = (timeit.default_timer() - start_time) / 60.0"
   ]
  },
  {
   "cell_type": "code",
   "execution_count": 21,
   "metadata": {},
   "outputs": [],
   "source": [
    "mu.saveModel(title+'no_gudu', no_model)"
   ]
  },
  {
   "cell_type": "code",
   "execution_count": 22,
   "metadata": {},
   "outputs": [
    {
     "name": "stdout",
     "output_type": "stream",
     "text": [
      "OCR_rnn(\n",
      "  (emb): Embedding(121, 100)\n",
      "  (lstm1): RNN(\n",
      "    (rnn): LSTM(100, 200, batch_first=True, dropout=0.2, bidirectional=True)\n",
      "  )\n",
      "  (lstm2): RNN(\n",
      "    (rnn): LSTM(100, 200, batch_first=True, dropout=0.2, bidirectional=True)\n",
      "  )\n",
      "  (fc1): Linear(in_features=800, out_features=300, bias=True)\n",
      "  (fc2): Linear(in_features=300, out_features=2, bias=True)\n",
      "  (dp1): Dropout(p=0.2, inplace=False)\n",
      "  (dp2): Dropout(p=0.2, inplace=False)\n",
      ")\n"
     ]
    }
   ],
   "source": [
    "no_model = mu.getModel(title+'no_gudu')\n",
    "print(no_model)"
   ]
  },
  {
   "cell_type": "code",
   "execution_count": 23,
   "metadata": {},
   "outputs": [
    {
     "name": "stdout",
     "output_type": "stream",
     "text": [
      "test loss:  0.0138268363331008\n",
      "test acc:  99.7\n",
      "saved precision and recall results to file!\n"
     ]
    }
   ],
   "source": [
    "loss, acc = tester.test(test_dataloader=no_test_dataloader,\n",
    "                        device=device,\n",
    "                        model=no_model,\n",
    "                        title=title+'no_gudu')"
   ]
  },
  {
   "cell_type": "code",
   "execution_count": 24,
   "metadata": {},
   "outputs": [],
   "source": [
    "with open('../result/final_split', 'a') as f:\n",
    "        text = title + '\\t |\\tloss: ' + str(loss) + '\\t |\\tacc: ' + str(acc) + '\\t |\\t time: ' + str(round(end_time, 3)) + ' min\\n'\n",
    "        f.write(text)"
   ]
  },
  {
   "cell_type": "code",
   "execution_count": 25,
   "metadata": {},
   "outputs": [
    {
     "name": "stdout",
     "output_type": "stream",
     "text": [
      "uploaded model graph to tensorboard!\n"
     ]
    }
   ],
   "source": [
    "mu.graphModel(no_train_dataloader, no_model, writer)"
   ]
  },
  {
   "cell_type": "code",
   "execution_count": null,
   "metadata": {},
   "outputs": [],
   "source": []
  }
 ],
 "metadata": {
  "kernelspec": {
   "display_name": "Python 3.9.12 ('base')",
   "language": "python",
   "name": "python3"
  },
  "language_info": {
   "codemirror_mode": {
    "name": "ipython",
    "version": 3
   },
   "file_extension": ".py",
   "mimetype": "text/x-python",
   "name": "python",
   "nbconvert_exporter": "python",
   "pygments_lexer": "ipython3",
   "version": "3.9.12"
  },
  "orig_nbformat": 4,
  "vscode": {
   "interpreter": {
    "hash": "348b9cd948ce87438be2e622031b2ecfa29bc2d3ecc0fd03127b9a24b30227df"
   }
  }
 },
 "nbformat": 4,
 "nbformat_minor": 2
}
