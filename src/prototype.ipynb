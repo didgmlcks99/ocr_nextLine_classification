{
 "cells": [
  {
   "cell_type": "code",
   "execution_count": 1,
   "metadata": {},
   "outputs": [],
   "source": [
    "import model_util as mu\n",
    "import predictor"
   ]
  },
  {
   "cell_type": "code",
   "execution_count": 2,
   "metadata": {},
   "outputs": [],
   "source": [
    "model = mu.getModel('inverted_noGudu3')"
   ]
  },
  {
   "cell_type": "code",
   "execution_count": 4,
   "metadata": {},
   "outputs": [
    {
     "name": "stdout",
     "output_type": "stream",
     "text": [
      "successfully got ch2idx!\n",
      "tensor([[ 4, 19, 16,  3,  7, 15,  9, 11, 17,  2, 31,  2, 17, 33,  8, 16,  3,  7,\n",
      "         18, 32, 14,  5,  4,  7,  2, 34, 14, 17, 16,  3,  7, 29,  8, 16,  2,  8,\n",
      "         18, 12,  7,  4, 19,  7,  2, 17, 11,  9, 14,  2,  9,  4, 29, 31, 18, 19,\n",
      "         11, 12,  7, 16, 17,  2,  8, 16, 10, 19,  7, 29, 26, 16, 31, 20, 29, 17]])\n",
      "tensor([[ 0,  0,  0,  0,  0,  0,  0,  0,  0,  0, 21, 28,  3, 30, 12, 11, 10, 19,\n",
      "          7, 11,  9, 11, 33,  9, 25,  9, 33, 31,  7, 11,  3, 14, 31, 15,  3,  7,\n",
      "         14,  5,  2,  9, 42, 17, 16,  7,  2,  9, 11, 18,  9, 11,  2, 17,  2,  3,\n",
      "          7,  4,  9,  4,  4, 12,  7, 25,  8,  2, 31, 33,  8,  2, 17,  4, 12, 11]])\n",
      "72.32% that next line must be omitted.\n"
     ]
    }
   ],
   "source": [
    "first = '내가 크리에이터가 되면 유미가 적어도 내 이름은제대로 기억해 주겠지' \n",
    "second = '놀이터에서 노는 아이들을 픽으며 카메라 테스트를 해볼까?'\n",
    "\n",
    "predictor.predict(first, second, model)"
   ]
  },
  {
   "cell_type": "code",
   "execution_count": null,
   "metadata": {},
   "outputs": [],
   "source": []
  }
 ],
 "metadata": {
  "kernelspec": {
   "display_name": "Python 3.9.12 ('base')",
   "language": "python",
   "name": "python3"
  },
  "language_info": {
   "codemirror_mode": {
    "name": "ipython",
    "version": 3
   },
   "file_extension": ".py",
   "mimetype": "text/x-python",
   "name": "python",
   "nbconvert_exporter": "python",
   "pygments_lexer": "ipython3",
   "version": "3.9.12"
  },
  "orig_nbformat": 4,
  "vscode": {
   "interpreter": {
    "hash": "348b9cd948ce87438be2e622031b2ecfa29bc2d3ecc0fd03127b9a24b30227df"
   }
  }
 },
 "nbformat": 4,
 "nbformat_minor": 2
}
