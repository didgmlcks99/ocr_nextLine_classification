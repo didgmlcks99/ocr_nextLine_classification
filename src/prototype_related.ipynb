{
 "cells": [
  {
   "cell_type": "code",
   "execution_count": 1,
   "metadata": {},
   "outputs": [],
   "source": [
    "import model_util as mu\n",
    "import predictor"
   ]
  },
  {
   "cell_type": "code",
   "execution_count": 2,
   "metadata": {},
   "outputs": [],
   "source": [
    "model = mu.getModel('related_ovf_1')"
   ]
  },
  {
   "cell_type": "code",
   "execution_count": 27,
   "metadata": {},
   "outputs": [
    {
     "name": "stdout",
     "output_type": "stream",
     "text": [
      "OCR_rnn(\n",
      "  (emb): Embedding(115, 300)\n",
      "  (lstm1): RNN(\n",
      "    (rnn): LSTM(300, 800, batch_first=True, bidirectional=True)\n",
      "  )\n",
      "  (lstm2): RNN(\n",
      "    (rnn): LSTM(300, 800, batch_first=True, bidirectional=True)\n",
      "  )\n",
      "  (fc1): Linear(in_features=3200, out_features=300, bias=True)\n",
      "  (fc2): Linear(in_features=300, out_features=2, bias=True)\n",
      "  (dp1): Dropout(p=0.0, inplace=False)\n",
      "  (dp2): Dropout(p=0.0, inplace=False)\n",
      ")\n"
     ]
    }
   ],
   "source": [
    "print(model)"
   ]
  },
  {
   "cell_type": "code",
   "execution_count": 3,
   "metadata": {},
   "outputs": [
    {
     "name": "stdout",
     "output_type": "stream",
     "text": [
      "successfully got ch2idx!\n",
      "0.00% that next line must be omitted.\n",
      "result: tensor([[1]])\n"
     ]
    }
   ],
   "source": [
    "# 현충일인 6일 오전 전국 고속도로는 크,게 정체되는 곳 없이 원활한 흐름을 보이고 있다,1\n",
    "first = '영상 속 어린이가 나눔을 실천한'\n",
    "second = '꼭 기업가가 되고'\n",
    "\n",
    "predictor.predict(first, second, model, 0)"
   ]
  },
  {
   "cell_type": "code",
   "execution_count": 4,
   "metadata": {},
   "outputs": [
    {
     "name": "stdout",
     "output_type": "stream",
     "text": [
      "successfully got ch2idx!\n",
      "96.93% that next line must be omitted.\n",
      "result: tensor([[0]])\n"
     ]
    }
   ],
   "source": [
    "# 와 만난 조 교수는 중국에,선 고대사 연구 열기가 대단하다고 말했다,1\n",
    "\n",
    "first = '영상 속 어린이가 나눔을 실천한 사례를'\n",
    "second = '참고하여 나만의 나눔 계획을 세워 봅시다'\n",
    "\n",
    "predictor.predict(first, second, model, 0)"
   ]
  },
  {
   "cell_type": "code",
   "execution_count": 5,
   "metadata": {},
   "outputs": [
    {
     "name": "stdout",
     "output_type": "stream",
     "text": [
      "successfully got ch2idx!\n",
      "0.46% that next line must be omitted.\n",
      "result: tensor([[1]])\n"
     ]
    }
   ],
   "source": [
    "# 와 만난 조 교수는 중국에,선 고대사 연구 열기가 대단하다고 말했다,1\n",
    "\n",
    "first = '한인 소년병학교의 군사훈련'\n",
    "second = '물음에 답하며 선생님의 생애와'\n",
    "\n",
    "predictor.predict(first, second, model, 0)"
   ]
  },
  {
   "cell_type": "code",
   "execution_count": 7,
   "metadata": {},
   "outputs": [
    {
     "name": "stdout",
     "output_type": "stream",
     "text": [
      "successfully got ch2idx!\n",
      "100.00% that next line must be omitted.\n",
      "result: tensor([[0]])\n"
     ]
    }
   ],
   "source": [
    "# 와 만난 조 교수는 중국에,선 고대사 연구 열기가 대단하다고 말했다,1\n",
    "\n",
    "first = '한인 소년병학교의 군사훈련을'\n",
    "second = '받으면서 선생님은 어떤 감정을 느꼈을까요'\n",
    "\n",
    "predictor.predict(first, second, model, 0)"
   ]
  },
  {
   "cell_type": "code",
   "execution_count": 8,
   "metadata": {},
   "outputs": [
    {
     "name": "stdout",
     "output_type": "stream",
     "text": [
      "successfully got ch2idx!\n",
      "28.03% that next line must be omitted.\n",
      "result: tensor([[1]])\n"
     ]
    }
   ],
   "source": [
    "# 와 만난 조 교수는 중국에,선 고대사 연구 열기가 대단하다고 말했다,1\n",
    "\n",
    "first = '민수가 우산을 가지고 오지 않아 비를'\n",
    "second = '하늘에 구름이 많아서 날씨가'\n",
    "\n",
    "predictor.predict(first, second, model, 0)"
   ]
  },
  {
   "cell_type": "code",
   "execution_count": 9,
   "metadata": {},
   "outputs": [
    {
     "name": "stdout",
     "output_type": "stream",
     "text": [
      "successfully got ch2idx!\n",
      "6.33% that next line must be omitted.\n",
      "result: tensor([[1]])\n"
     ]
    }
   ],
   "source": [
    "# 와 만난 조 교수는 중국에,선 고대사 연구 열기가 대단하다고 말했다,1\n",
    "\n",
    "first = '민수가 우산을 가지고 오지 않아 비를'\n",
    "second = '맞으면서 집으로 가고 있어요'\n",
    "\n",
    "predictor.predict(first, second, model, 0)"
   ]
  },
  {
   "cell_type": "code",
   "execution_count": 10,
   "metadata": {},
   "outputs": [
    {
     "name": "stdout",
     "output_type": "stream",
     "text": [
      "successfully got ch2idx!\n",
      "100.00% that next line must be omitted.\n",
      "result: tensor([[0]])\n"
     ]
    }
   ],
   "source": [
    "# 와 만난 조 교수는 중국에,선 고대사 연구 열기가 대단하다고 말했다,1\n",
    "\n",
    "first = '학교 복도에서 뛰어다니면'\n",
    "second = '복도에서는 우측통행으로'\n",
    "\n",
    "predictor.predict(first, second, model, 0)"
   ]
  },
  {
   "cell_type": "code",
   "execution_count": 11,
   "metadata": {},
   "outputs": [
    {
     "name": "stdout",
     "output_type": "stream",
     "text": [
      "successfully got ch2idx!\n",
      "100.00% that next line must be omitted.\n",
      "result: tensor([[0]])\n"
     ]
    }
   ],
   "source": [
    "# 와 만난 조 교수는 중국에,선 고대사 연구 열기가 대단하다고 말했다,1\n",
    "\n",
    "first = '학교 복도에서 뛰어다니면'\n",
    "second = '넘어져서 다칠수 있어요'\n",
    "\n",
    "predictor.predict(first, second, model, 0)"
   ]
  },
  {
   "cell_type": "code",
   "execution_count": 12,
   "metadata": {},
   "outputs": [
    {
     "name": "stdout",
     "output_type": "stream",
     "text": [
      "successfully got ch2idx!\n",
      "100.00% that next line must be omitted.\n",
      "result: tensor([[0]])\n"
     ]
    }
   ],
   "source": [
    "# 와 만난 조 교수는 중국에,선 고대사 연구 열기가 대단하다고 말했다,1\n",
    "\n",
    "first = '책을 먹는 여우가 새로운 책'\n",
    "second = '더 이상 너에게 줄 책은 없어'\n",
    "\n",
    "predictor.predict(first, second, model, 0)"
   ]
  },
  {
   "cell_type": "code",
   "execution_count": 13,
   "metadata": {},
   "outputs": [
    {
     "name": "stdout",
     "output_type": "stream",
     "text": [
      "successfully got ch2idx!\n",
      "95.00% that next line must be omitted.\n",
      "result: tensor([[0]])\n"
     ]
    }
   ],
   "source": [
    "# 와 만난 조 교수는 중국에,선 고대사 연구 열기가 대단하다고 말했다,1\n",
    "\n",
    "first = '책을 먹는 여우가 새로운 책'\n",
    "second = '을 찾아서 도서관을 찾아 왔어요'\n",
    "\n",
    "predictor.predict(first, second, model, 0)"
   ]
  },
  {
   "cell_type": "code",
   "execution_count": 15,
   "metadata": {},
   "outputs": [
    {
     "name": "stdout",
     "output_type": "stream",
     "text": [
      "successfully got ch2idx!\n",
      "98.83% that next line must be omitted.\n",
      "result: tensor([[0]])\n"
     ]
    }
   ],
   "source": [
    "# 와 만난 조 교수는 중국에,선 고대사 연구 열기가 대단하다고 말했다,1\n",
    "\n",
    "first = '아기 돼지가 더러운 손으로'\n",
    "second = '낄낄 내가 좋아하는 꼬마가 저기 있구나'\n",
    "\n",
    "predictor.predict(first, second, model, 0)"
   ]
  },
  {
   "cell_type": "code",
   "execution_count": 16,
   "metadata": {},
   "outputs": [
    {
     "name": "stdout",
     "output_type": "stream",
     "text": [
      "successfully got ch2idx!\n",
      "99.05% that next line must be omitted.\n",
      "result: tensor([[0]])\n"
     ]
    }
   ],
   "source": [
    "# 와 만난 조 교수는 중국에,선 고대사 연구 열기가 대단하다고 말했다,1\n",
    "\n",
    "first = '어느 숲에 성에 살고 있는'\n",
    "second = '그들의 이름은 피터와 그룸 이였고'\n",
    "\n",
    "predictor.predict(first, second, model, 0)"
   ]
  },
  {
   "cell_type": "code",
   "execution_count": 17,
   "metadata": {},
   "outputs": [
    {
     "name": "stdout",
     "output_type": "stream",
     "text": [
      "successfully got ch2idx!\n",
      "100.00% that next line must be omitted.\n",
      "result: tensor([[0]])\n"
     ]
    }
   ],
   "source": [
    "# 와 만난 조 교수는 중국에,선 고대사 연구 열기가 대단하다고 말했다,1\n",
    "\n",
    "first = '어느 숲에 성에 살고 있는'\n",
    "second = '두 왕자가 있었다'\n",
    "\n",
    "predictor.predict(first, second, model, 0)"
   ]
  },
  {
   "cell_type": "code",
   "execution_count": 19,
   "metadata": {},
   "outputs": [
    {
     "name": "stdout",
     "output_type": "stream",
     "text": [
      "successfully got ch2idx!\n",
      "28.33% that next line must be omitted.\n",
      "result: tensor([[1]])\n"
     ]
    }
   ],
   "source": [
    "# 와 만난 조 교수는 중국에,선 고대사 연구 열기가 대단하다고 말했다,1\n",
    "\n",
    "first = '잭이라는 소년이 살고'\n",
    "second = '세상에 고작 이 콩들 때문에 젖소를 주었다고'\n",
    "\n",
    "predictor.predict(first, second, model, 0)"
   ]
  },
  {
   "cell_type": "code",
   "execution_count": 20,
   "metadata": {},
   "outputs": [
    {
     "name": "stdout",
     "output_type": "stream",
     "text": [
      "successfully got ch2idx!\n",
      "23.61% that next line must be omitted.\n",
      "result: tensor([[1]])\n"
     ]
    }
   ],
   "source": [
    "# 와 만난 조 교수는 중국에,선 고대사 연구 열기가 대단하다고 말했다,1\n",
    "\n",
    "first = '잭이라는 소년이 살고'\n",
    "second = '있었어요'\n",
    "\n",
    "predictor.predict(first, second, model, 0)"
   ]
  },
  {
   "cell_type": "code",
   "execution_count": 21,
   "metadata": {},
   "outputs": [
    {
     "name": "stdout",
     "output_type": "stream",
     "text": [
      "successfully got ch2idx!\n",
      "99.99% that next line must be omitted.\n",
      "result: tensor([[0]])\n"
     ]
    }
   ],
   "source": [
    "# 제페토 할아버지는\n",
    "# 와 만난 조 교수는 중국에,선 고대사 연구 열기가 대단하다고 말했다,1\n",
    "\n",
    "first = '제페토 할아버지는'\n",
    "second = '피노피오는 여우와'\n",
    "\n",
    "predictor.predict(first, second, model, 0)"
   ]
  },
  {
   "cell_type": "code",
   "execution_count": 22,
   "metadata": {},
   "outputs": [
    {
     "name": "stdout",
     "output_type": "stream",
     "text": [
      "successfully got ch2idx!\n",
      "99.35% that next line must be omitted.\n",
      "result: tensor([[0]])\n"
     ]
    }
   ],
   "source": [
    "# 제페토 할아버지는\n",
    "# 와 만난 조 교수는 중국에,선 고대사 연구 열기가 대단하다고 말했다,1\n",
    "\n",
    "first = '제페토 할아버지는'\n",
    "second = '자식이 없었어요'\n",
    "\n",
    "predictor.predict(first, second, model, 0)"
   ]
  },
  {
   "cell_type": "code",
   "execution_count": 26,
   "metadata": {},
   "outputs": [
    {
     "name": "stdout",
     "output_type": "stream",
     "text": [
      "successfully got ch2idx!\n",
      "99.87% that next line must be omitted.\n",
      "result: tensor([[0]])\n"
     ]
    }
   ],
   "source": [
    "# 유일한 박사는 어떤 계기로\n",
    "# 제페토 할아버지는\n",
    "# 와 만난 조 교수는 중국에,선 고대사 연구 열기가 대단하다고 말했다,1\n",
    "\n",
    "first = '유일한 박사는 어떤 계기로 미국에'\n",
    "second = '어린 시절'\n",
    "\n",
    "predictor.predict(first, second, model, 0)"
   ]
  },
  {
   "cell_type": "code",
   "execution_count": null,
   "metadata": {},
   "outputs": [],
   "source": []
  }
 ],
 "metadata": {
  "kernelspec": {
   "display_name": "Python 3.9.12 ('base')",
   "language": "python",
   "name": "python3"
  },
  "language_info": {
   "codemirror_mode": {
    "name": "ipython",
    "version": 3
   },
   "file_extension": ".py",
   "mimetype": "text/x-python",
   "name": "python",
   "nbconvert_exporter": "python",
   "pygments_lexer": "ipython3",
   "version": "3.9.12"
  },
  "orig_nbformat": 4,
  "vscode": {
   "interpreter": {
    "hash": "348b9cd948ce87438be2e622031b2ecfa29bc2d3ecc0fd03127b9a24b30227df"
   }
  }
 },
 "nbformat": 4,
 "nbformat_minor": 2
}
