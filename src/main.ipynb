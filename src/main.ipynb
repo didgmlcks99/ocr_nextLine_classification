{
 "cells": [
  {
   "cell_type": "code",
   "execution_count": 1,
   "metadata": {},
   "outputs": [],
   "source": [
    "# 0 := delete \\n\n",
    "# 1 := leave as it is\n",
    "\n",
    "# model = gensim.models.Word2Vec.load('../../../pretrained_model/kor/ko.bin')\n",
    "\n",
    "# from hangul_utils import split_syllables, join_jamos\n",
    "# import gensim"
   ]
  },
  {
   "cell_type": "code",
   "execution_count": 2,
   "metadata": {},
   "outputs": [],
   "source": [
    "import torch\n",
    "from sklearn.model_selection import train_test_split\n",
    "import pandas as pd\n",
    "\n",
    "from torch.utils.tensorboard import SummaryWriter\n",
    "from datetime import datetime\n",
    "\n",
    "import data\n",
    "import bpe\n",
    "import utils\n",
    "import pretrained_model as pm\n",
    "import data_loader as dl\n",
    "import trainer\n",
    "import initializer as init\n",
    "import tester\n",
    "import model_util as mu"
   ]
  },
  {
   "cell_type": "code",
   "execution_count": 3,
   "metadata": {},
   "outputs": [
    {
     "name": "stdout",
     "output_type": "stream",
     "text": [
      "linearized complete!\n",
      "done tokenizing both data!\n",
      "saved ch2idx to file!\n",
      "encoding comlete!\n"
     ]
    }
   ],
   "source": [
    "first_np, second_np, label_np  = data.getData()\n",
    "first_np, second_np = utils.process_splitted(first_np, second_np)\n",
    "first_ls, second_ls, ch2idx, max_len = utils.tokenize(first_np, second_np)\n",
    "first2idx_np, second2idx_np = utils.encode(first_ls, second_ls, ch2idx, max_len)"
   ]
  },
  {
   "cell_type": "code",
   "execution_count": 4,
   "metadata": {},
   "outputs": [
    {
     "name": "stdout",
     "output_type": "stream",
     "text": [
      "There are 27 / 133 pretrained vectors found.\n"
     ]
    }
   ],
   "source": [
    "pretrained_word2vec = pm.load_pretrained_model(ch2idx)\n",
    "pretrained_word2vec = torch.tensor(pretrained_word2vec)"
   ]
  },
  {
   "cell_type": "code",
   "execution_count": 5,
   "metadata": {},
   "outputs": [],
   "source": [
    "train_first, test_first, train_second, test_second, train_labels, test_labels = train_test_split(\n",
    "    first2idx_np, second2idx_np, label_np, test_size = 0.1, random_state = 43\n",
    ")\n",
    "\n",
    "train_first, val_first, train_second, val_second, train_labels, val_labels = train_test_split(\n",
    "    train_first, train_second, train_labels, test_size = 0.1, random_state = 43\n",
    ")"
   ]
  },
  {
   "cell_type": "code",
   "execution_count": 6,
   "metadata": {},
   "outputs": [],
   "source": [
    "train_dataloader, val_dataloader, test_dataloader = dl.data_loader(train_first,\n",
    "                                                                   train_second,\n",
    "                                                                   val_first,\n",
    "                                                                   val_second,\n",
    "                                                                   test_first,\n",
    "                                                                   test_second,\n",
    "                                                                   train_labels,\n",
    "                                                                   val_labels,\n",
    "                                                                   test_labels,\n",
    "                                                                   batch_size=50)"
   ]
  },
  {
   "cell_type": "code",
   "execution_count": 7,
   "metadata": {},
   "outputs": [
    {
     "name": "stdout",
     "output_type": "stream",
     "text": [
      "There are 1 GPU(s) available.\n",
      "Device name: NVIDIA GeForce RTX 3070\n"
     ]
    }
   ],
   "source": [
    "# PyTorch TensorBoard support\n",
    "timestamp = datetime.now().strftime('%Y%m%d_%H%M%S')\n",
    "writer = SummaryWriter('temp/rnntests2')\n",
    "\n",
    "if torch.cuda.is_available():       \n",
    "    device = torch.device(\"cuda\")\n",
    "    print(f'There are {torch.cuda.device_count()} GPU(s) available.')\n",
    "    print('Device name:', torch.cuda.get_device_name(0))\n",
    "\n",
    "else:\n",
    "    print('No GPU available, using the CPU instead.')\n",
    "    device = torch.device(\"cpu\")"
   ]
  },
  {
   "cell_type": "code",
   "execution_count": 8,
   "metadata": {},
   "outputs": [],
   "source": [
    "# ====================\n",
    "# set parameters here\n",
    "# ====================\n",
    "\n",
    "title = 'tmp-test1'\n",
    "epochs = 40\n",
    "\n",
    "vocab_size=len(ch2idx)\n",
    "embed_dim = 200\n",
    "hidden_size = 100\n",
    "num_classes = 2\n",
    "rnn_layers = 1\n",
    "\n",
    "num_filters = [100, 200, 100]\n",
    "kernel_sizes = [15, 21, 14]\n",
    "\n",
    "dropout = 0.5\n",
    "\n",
    "learning_rate = 0.001\n",
    "weight_decay = 1e-4\n",
    "\n",
    "model_name=\"RNN\"\n",
    "optim_name=\"Adam\"\n",
    "loss_fn_name=\"CEL\"\n",
    "\n",
    "pretrained_model=pretrained_word2vec\n",
    "freeze_embedding=False,"
   ]
  },
  {
   "cell_type": "code",
   "execution_count": 9,
   "metadata": {},
   "outputs": [
    {
     "name": "stdout",
     "output_type": "stream",
     "text": [
      "doing with pretrained model!!!\n"
     ]
    },
    {
     "name": "stderr",
     "output_type": "stream",
     "text": [
      "/home/arise/anaconda3/lib/python3.9/site-packages/torch/nn/modules/rnn.py:62: UserWarning: dropout option adds dropout after all but last recurrent layer, so non-zero dropout expects num_layers greater than 1, but got dropout=0.5 and num_layers=1\n",
      "  warnings.warn(\"dropout option adds dropout after all but last \"\n"
     ]
    },
    {
     "name": "stdout",
     "output_type": "stream",
     "text": [
      "OCR_rnn(\n",
      "  (emb): Embedding(133, 200)\n",
      "  (lstm1): RNN(\n",
      "    (rnn): LSTM(200, 100, batch_first=True, dropout=0.5, bidirectional=True)\n",
      "  )\n",
      "  (lstm2): RNN(\n",
      "    (rnn): LSTM(200, 100, batch_first=True, dropout=0.5, bidirectional=True)\n",
      "  )\n",
      "  (fc1): Linear(in_features=400, out_features=300, bias=True)\n",
      "  (fc2): Linear(in_features=300, out_features=2, bias=True)\n",
      "  (dp1): Dropout(p=0.5, inplace=False)\n",
      "  (dp2): Dropout(p=0.5, inplace=False)\n",
      ")\n"
     ]
    }
   ],
   "source": [
    "trainer.set_seed(42)\n",
    "\n",
    "model, optimizer, loss_fn = init.initialize_model(\n",
    "    vocab_size=vocab_size,\n",
    "    embed_dim=embed_dim,\n",
    "    hidden_size=hidden_size,\n",
    "    num_classes=num_classes,\n",
    "    rnn_layers=rnn_layers,\n",
    "    num_filters=num_filters,\n",
    "    kernel_sizes=kernel_sizes,\n",
    "    dropout=dropout,\n",
    "    learning_rate=learning_rate,\n",
    "    weight_decay=weight_decay,\n",
    "    model_name=model_name,\n",
    "    optim_name=optim_name,\n",
    "    loss_fn_name=loss_fn_name,\n",
    "    pretrained_model=pretrained_model,\n",
    "    freeze_embedding=freeze_embedding,\n",
    "    device=device,\n",
    ")\n",
    "\n",
    "print(model)"
   ]
  },
  {
   "cell_type": "code",
   "execution_count": 10,
   "metadata": {},
   "outputs": [
    {
     "name": "stdout",
     "output_type": "stream",
     "text": [
      "Start training...\n",
      "\n",
      " Epoch  |  Train Loss  | Train Acc  | Val Loss | Val Acc | Elapsed\n",
      "--------------------------------------------------------------------------------\n",
      "torch.Size([50, 802])\n",
      "torch.Size([50, 802, 200])\n",
      "torch.Size([50, 200])\n",
      "torch.Size([50, 802])\n",
      "torch.Size([50, 802, 200])\n",
      "torch.Size([50, 200])\n",
      "torch.Size([50, 802])\n",
      "torch.Size([50, 802, 200])\n",
      "torch.Size([50, 200])\n",
      "torch.Size([50, 802])\n",
      "torch.Size([50, 802, 200])\n",
      "torch.Size([50, 200])\n",
      "torch.Size([50, 802])\n",
      "torch.Size([50, 802, 200])\n",
      "torch.Size([50, 200])\n",
      "torch.Size([50, 802])\n",
      "torch.Size([50, 802, 200])\n",
      "torch.Size([50, 200])\n",
      "torch.Size([50, 802])\n",
      "torch.Size([50, 802, 200])\n",
      "torch.Size([50, 200])\n",
      "torch.Size([50, 802])\n",
      "torch.Size([50, 802, 200])\n",
      "torch.Size([50, 200])\n",
      "torch.Size([50, 802])\n",
      "torch.Size([50, 802, 200])\n",
      "torch.Size([50, 200])\n",
      "torch.Size([50, 802])\n",
      "torch.Size([50, 802, 200])\n",
      "torch.Size([50, 200])\n",
      "torch.Size([50, 802])\n",
      "torch.Size([50, 802, 200])\n",
      "torch.Size([50, 200])\n",
      "torch.Size([50, 802])\n",
      "torch.Size([50, 802, 200])\n",
      "torch.Size([50, 200])\n",
      "torch.Size([50, 802])\n",
      "torch.Size([50, 802, 200])\n",
      "torch.Size([50, 200])\n",
      "torch.Size([50, 802])\n",
      "torch.Size([50, 802, 200])\n",
      "torch.Size([50, 200])\n",
      "torch.Size([50, 802])\n",
      "torch.Size([50, 802, 200])\n",
      "torch.Size([50, 200])\n",
      "torch.Size([50, 802])\n",
      "torch.Size([50, 802, 200])\n",
      "torch.Size([50, 200])\n",
      "torch.Size([50, 802])\n",
      "torch.Size([50, 802, 200])\n",
      "torch.Size([50, 200])\n",
      "torch.Size([50, 802])\n",
      "torch.Size([50, 802, 200])\n",
      "torch.Size([50, 200])\n",
      "torch.Size([50, 802])\n",
      "torch.Size([50, 802, 200])\n",
      "torch.Size([50, 200])\n",
      "torch.Size([50, 802])\n",
      "torch.Size([50, 802, 200])\n",
      "torch.Size([50, 200])\n",
      "torch.Size([50, 802])\n",
      "torch.Size([50, 802, 200])\n",
      "torch.Size([50, 200])\n",
      "torch.Size([50, 802])\n",
      "torch.Size([50, 802, 200])\n",
      "torch.Size([50, 200])\n",
      "torch.Size([50, 802])\n",
      "torch.Size([50, 802, 200])\n",
      "torch.Size([50, 200])\n",
      "torch.Size([50, 802])\n",
      "torch.Size([50, 802, 200])\n",
      "torch.Size([50, 200])\n",
      "torch.Size([50, 802])\n",
      "torch.Size([50, 802, 200])\n",
      "torch.Size([50, 200])\n",
      "torch.Size([50, 802])\n",
      "torch.Size([50, 802, 200])\n",
      "torch.Size([50, 200])\n",
      "torch.Size([50, 802])\n",
      "torch.Size([50, 802, 200])\n",
      "torch.Size([50, 200])\n",
      "torch.Size([50, 802])\n",
      "torch.Size([50, 802, 200])\n",
      "torch.Size([50, 200])\n",
      "torch.Size([50, 802])\n",
      "torch.Size([50, 802, 200])\n",
      "torch.Size([50, 200])\n",
      "torch.Size([50, 802])\n",
      "torch.Size([50, 802, 200])\n",
      "torch.Size([50, 200])\n",
      "torch.Size([50, 802])\n",
      "torch.Size([50, 802, 200])\n",
      "torch.Size([50, 200])\n",
      "torch.Size([50, 802])\n",
      "torch.Size([50, 802, 200])\n",
      "torch.Size([50, 200])\n",
      "torch.Size([50, 802])\n",
      "torch.Size([50, 802, 200])\n",
      "torch.Size([50, 200])\n",
      "torch.Size([50, 802])\n",
      "torch.Size([50, 802, 200])\n",
      "torch.Size([50, 200])\n",
      "torch.Size([50, 802])\n",
      "torch.Size([50, 802, 200])\n",
      "torch.Size([50, 200])\n",
      "torch.Size([50, 802])\n",
      "torch.Size([50, 802, 200])\n",
      "torch.Size([50, 200])\n",
      "torch.Size([50, 802])\n",
      "torch.Size([50, 802, 200])\n",
      "torch.Size([50, 200])\n",
      "torch.Size([50, 802])\n",
      "torch.Size([50, 802, 200])\n",
      "torch.Size([50, 200])\n",
      "torch.Size([50, 802])\n",
      "torch.Size([50, 802, 200])\n",
      "torch.Size([50, 200])\n",
      "torch.Size([50, 802])\n",
      "torch.Size([50, 802, 200])\n",
      "torch.Size([50, 200])\n",
      "torch.Size([50, 802])\n",
      "torch.Size([50, 802, 200])\n",
      "torch.Size([50, 200])\n",
      "torch.Size([50, 802])\n",
      "torch.Size([50, 802, 200])\n",
      "torch.Size([50, 200])\n"
     ]
    },
    {
     "ename": "KeyboardInterrupt",
     "evalue": "",
     "output_type": "error",
     "traceback": [
      "\u001b[0;31m---------------------------------------------------------------------------\u001b[0m",
      "\u001b[0;31mKeyboardInterrupt\u001b[0m                         Traceback (most recent call last)",
      "\u001b[1;32m/home/arise/auto/ocr/src/main.ipynb Cell 10\u001b[0m in \u001b[0;36m<cell line: 1>\u001b[0;34m()\u001b[0m\n\u001b[0;32m----> <a href='vscode-notebook-cell:/home/arise/auto/ocr/src/main.ipynb#X12sZmlsZQ%3D%3D?line=0'>1</a>\u001b[0m trainer\u001b[39m.\u001b[39;49mtrain(\n\u001b[1;32m      <a href='vscode-notebook-cell:/home/arise/auto/ocr/src/main.ipynb#X12sZmlsZQ%3D%3D?line=1'>2</a>\u001b[0m     epochs\u001b[39m=\u001b[39;49mepochs,\n\u001b[1;32m      <a href='vscode-notebook-cell:/home/arise/auto/ocr/src/main.ipynb#X12sZmlsZQ%3D%3D?line=2'>3</a>\u001b[0m     title\u001b[39m=\u001b[39;49mtitle,\n\u001b[1;32m      <a href='vscode-notebook-cell:/home/arise/auto/ocr/src/main.ipynb#X12sZmlsZQ%3D%3D?line=3'>4</a>\u001b[0m     writer\u001b[39m=\u001b[39;49mwriter,\n\u001b[1;32m      <a href='vscode-notebook-cell:/home/arise/auto/ocr/src/main.ipynb#X12sZmlsZQ%3D%3D?line=4'>5</a>\u001b[0m     train_dataloader\u001b[39m=\u001b[39;49mtrain_dataloader,\n\u001b[1;32m      <a href='vscode-notebook-cell:/home/arise/auto/ocr/src/main.ipynb#X12sZmlsZQ%3D%3D?line=5'>6</a>\u001b[0m     val_dataloader\u001b[39m=\u001b[39;49mval_dataloader,\n\u001b[1;32m      <a href='vscode-notebook-cell:/home/arise/auto/ocr/src/main.ipynb#X12sZmlsZQ%3D%3D?line=6'>7</a>\u001b[0m     device\u001b[39m=\u001b[39;49mdevice,\n\u001b[1;32m      <a href='vscode-notebook-cell:/home/arise/auto/ocr/src/main.ipynb#X12sZmlsZQ%3D%3D?line=7'>8</a>\u001b[0m     model\u001b[39m=\u001b[39;49mmodel,\n\u001b[1;32m      <a href='vscode-notebook-cell:/home/arise/auto/ocr/src/main.ipynb#X12sZmlsZQ%3D%3D?line=8'>9</a>\u001b[0m     optimizer\u001b[39m=\u001b[39;49moptimizer,\n\u001b[1;32m     <a href='vscode-notebook-cell:/home/arise/auto/ocr/src/main.ipynb#X12sZmlsZQ%3D%3D?line=9'>10</a>\u001b[0m     loss_fn\u001b[39m=\u001b[39;49mloss_fn\n\u001b[1;32m     <a href='vscode-notebook-cell:/home/arise/auto/ocr/src/main.ipynb#X12sZmlsZQ%3D%3D?line=10'>11</a>\u001b[0m )\n",
      "File \u001b[0;32m~/auto/ocr/src/trainer.py:71\u001b[0m, in \u001b[0;36mtrain\u001b[0;34m(epochs, title, writer, train_dataloader, val_dataloader, device, model, optimizer, loss_fn)\u001b[0m\n\u001b[1;32m     68\u001b[0m tot_train_acc\u001b[39m.\u001b[39mappend(accuracy)\n\u001b[1;32m     70\u001b[0m \u001b[39m# Perform a backward pass to calculate gradients\u001b[39;00m\n\u001b[0;32m---> 71\u001b[0m loss\u001b[39m.\u001b[39;49mbackward()\n\u001b[1;32m     73\u001b[0m \u001b[39m# Update parameters\u001b[39;00m\n\u001b[1;32m     74\u001b[0m optimizer\u001b[39m.\u001b[39mstep()\n",
      "File \u001b[0;32m~/anaconda3/lib/python3.9/site-packages/torch/_tensor.py:307\u001b[0m, in \u001b[0;36mTensor.backward\u001b[0;34m(self, gradient, retain_graph, create_graph, inputs)\u001b[0m\n\u001b[1;32m    298\u001b[0m \u001b[39mif\u001b[39;00m has_torch_function_unary(\u001b[39mself\u001b[39m):\n\u001b[1;32m    299\u001b[0m     \u001b[39mreturn\u001b[39;00m handle_torch_function(\n\u001b[1;32m    300\u001b[0m         Tensor\u001b[39m.\u001b[39mbackward,\n\u001b[1;32m    301\u001b[0m         (\u001b[39mself\u001b[39m,),\n\u001b[0;32m   (...)\u001b[0m\n\u001b[1;32m    305\u001b[0m         create_graph\u001b[39m=\u001b[39mcreate_graph,\n\u001b[1;32m    306\u001b[0m         inputs\u001b[39m=\u001b[39minputs)\n\u001b[0;32m--> 307\u001b[0m torch\u001b[39m.\u001b[39;49mautograd\u001b[39m.\u001b[39;49mbackward(\u001b[39mself\u001b[39;49m, gradient, retain_graph, create_graph, inputs\u001b[39m=\u001b[39;49minputs)\n",
      "File \u001b[0;32m~/anaconda3/lib/python3.9/site-packages/torch/autograd/__init__.py:154\u001b[0m, in \u001b[0;36mbackward\u001b[0;34m(tensors, grad_tensors, retain_graph, create_graph, grad_variables, inputs)\u001b[0m\n\u001b[1;32m    151\u001b[0m \u001b[39mif\u001b[39;00m retain_graph \u001b[39mis\u001b[39;00m \u001b[39mNone\u001b[39;00m:\n\u001b[1;32m    152\u001b[0m     retain_graph \u001b[39m=\u001b[39m create_graph\n\u001b[0;32m--> 154\u001b[0m Variable\u001b[39m.\u001b[39;49m_execution_engine\u001b[39m.\u001b[39;49mrun_backward(\n\u001b[1;32m    155\u001b[0m     tensors, grad_tensors_, retain_graph, create_graph, inputs,\n\u001b[1;32m    156\u001b[0m     allow_unreachable\u001b[39m=\u001b[39;49m\u001b[39mTrue\u001b[39;49;00m, accumulate_grad\u001b[39m=\u001b[39;49m\u001b[39mTrue\u001b[39;49;00m)\n",
      "\u001b[0;31mKeyboardInterrupt\u001b[0m: "
     ]
    }
   ],
   "source": [
    "trainer.train(\n",
    "    epochs=epochs,\n",
    "    title=title,\n",
    "    writer=writer,\n",
    "    train_dataloader=train_dataloader,\n",
    "    val_dataloader=val_dataloader,\n",
    "    device=device,\n",
    "    model=model,\n",
    "    optimizer=optimizer,\n",
    "    loss_fn=loss_fn\n",
    ")"
   ]
  },
  {
   "cell_type": "code",
   "execution_count": null,
   "metadata": {},
   "outputs": [],
   "source": [
    "tester.test(test_dataloader=test_dataloader,\n",
    "            device=device,\n",
    "            model=model,\n",
    "            title=title)"
   ]
  },
  {
   "cell_type": "code",
   "execution_count": null,
   "metadata": {},
   "outputs": [],
   "source": [
    "# mu.graphModel(train_dataloader, model, writer)"
   ]
  },
  {
   "cell_type": "code",
   "execution_count": null,
   "metadata": {},
   "outputs": [],
   "source": [
    "mu.saveModel(title, model)"
   ]
  },
  {
   "cell_type": "code",
   "execution_count": null,
   "metadata": {},
   "outputs": [],
   "source": []
  }
 ],
 "metadata": {
  "kernelspec": {
   "display_name": "Python 3.9.12 ('base')",
   "language": "python",
   "name": "python3"
  },
  "language_info": {
   "codemirror_mode": {
    "name": "ipython",
    "version": 3
   },
   "file_extension": ".py",
   "mimetype": "text/x-python",
   "name": "python",
   "nbconvert_exporter": "python",
   "pygments_lexer": "ipython3",
   "version": "3.9.12"
  },
  "orig_nbformat": 4,
  "vscode": {
   "interpreter": {
    "hash": "348b9cd948ce87438be2e622031b2ecfa29bc2d3ecc0fd03127b9a24b30227df"
   }
  }
 },
 "nbformat": 4,
 "nbformat_minor": 2
}
