{
 "cells": [
  {
   "cell_type": "code",
   "execution_count": 1,
   "metadata": {},
   "outputs": [],
   "source": [
    "# 0 := delete \\n\n",
    "# 1 := leave as it is\n",
    "\n",
    "# model = gensim.models.Word2Vec.load('../../../pretrained_model/kor/ko.bin')\n",
    "\n",
    "# from hangul_utils import split_syllables, join_jamos\n",
    "# import gensim"
   ]
  },
  {
   "cell_type": "code",
   "execution_count": 2,
   "metadata": {},
   "outputs": [],
   "source": [
    "import torch\n",
    "from sklearn.model_selection import train_test_split\n",
    "import pandas as pd\n",
    "\n",
    "from torch.utils.tensorboard import SummaryWriter\n",
    "from datetime import datetime\n",
    "\n",
    "import data\n",
    "import bpe\n",
    "import utils\n",
    "import pretrained_model as pm\n",
    "import data_loader as dl\n",
    "import trainer\n",
    "import initializer as init\n",
    "import tester\n",
    "import model_util as mu"
   ]
  },
  {
   "cell_type": "code",
   "execution_count": 3,
   "metadata": {},
   "outputs": [
    {
     "name": "stdout",
     "output_type": "stream",
     "text": [
      "linearized complete!\n",
      "done tokenizing both data!\n",
      "saved ch2idx to file!\n",
      "encoding comlete!\n"
     ]
    }
   ],
   "source": [
    "first_np, second_np, label_np  = data.getData()\n",
    "first_np, second_np = utils.process_splitted(first_np, second_np)\n",
    "first_ls, second_ls, ch2idx, max_len = utils.tokenize(first_np, second_np)\n",
    "first2idx_np, second2idx_np = utils.encode(first_ls, second_ls, ch2idx, max_len)"
   ]
  },
  {
   "cell_type": "code",
   "execution_count": 4,
   "metadata": {},
   "outputs": [
    {
     "name": "stdout",
     "output_type": "stream",
     "text": [
      "There are 27 / 133 pretrained vectors found.\n"
     ]
    }
   ],
   "source": [
    "pretrained_word2vec = pm.load_pretrained_model(ch2idx)\n",
    "pretrained_word2vec = torch.tensor(pretrained_word2vec)"
   ]
  },
  {
   "cell_type": "code",
   "execution_count": 5,
   "metadata": {},
   "outputs": [],
   "source": [
    "train_first, test_first, train_second, test_second, train_labels, test_labels = train_test_split(\n",
    "    first2idx_np, second2idx_np, label_np, test_size = 0.1, random_state = 43\n",
    ")\n",
    "\n",
    "train_first, val_first, train_second, val_second, train_labels, val_labels = train_test_split(\n",
    "    train_first, train_second, train_labels, test_size = 0.1, random_state = 43\n",
    ")"
   ]
  },
  {
   "cell_type": "code",
   "execution_count": 6,
   "metadata": {},
   "outputs": [],
   "source": [
    "train_dataloader, val_dataloader, test_dataloader = dl.data_loader(train_first,\n",
    "                                                                   train_second,\n",
    "                                                                   val_first,\n",
    "                                                                   val_second,\n",
    "                                                                   test_first,\n",
    "                                                                   test_second,\n",
    "                                                                   train_labels,\n",
    "                                                                   val_labels,\n",
    "                                                                   test_labels,\n",
    "                                                                   batch_size=50)"
   ]
  },
  {
   "cell_type": "code",
   "execution_count": 7,
   "metadata": {},
   "outputs": [],
   "source": [
    "# PyTorch TensorBoard support\n",
    "timestamp = datetime.now().strftime('%Y%m%d_%H%M%S')\n",
    "writer = SummaryWriter('cnn-ocr/tests')"
   ]
  },
  {
   "cell_type": "code",
   "execution_count": 8,
   "metadata": {},
   "outputs": [
    {
     "name": "stdout",
     "output_type": "stream",
     "text": [
      "There are 1 GPU(s) available.\n",
      "Device name: NVIDIA GeForce RTX 3070\n"
     ]
    }
   ],
   "source": [
    "if torch.cuda.is_available():       \n",
    "    device = torch.device(\"cuda\")\n",
    "    print(f'There are {torch.cuda.device_count()} GPU(s) available.')\n",
    "    print('Device name:', torch.cuda.get_device_name(0))\n",
    "\n",
    "else:\n",
    "    print('No GPU available, using the CPU instead.')\n",
    "    device = torch.device(\"cpu\")"
   ]
  },
  {
   "cell_type": "code",
   "execution_count": 9,
   "metadata": {},
   "outputs": [],
   "source": [
    "# ====================\n",
    "# set parameters here\n",
    "# ====================\n",
    "\n",
    "title = 'cnn-test10'\n",
    "epochs = 40\n",
    "\n",
    "vocab_size=len(ch2idx)\n",
    "embed_dim = 200\n",
    "hidden_size = 100\n",
    "num_classes = 2\n",
    "rnn_layers = 1\n",
    "\n",
    "num_filters = [100, 200, 100]\n",
    "kernel_sizes = [15, 21, 114]\n",
    "\n",
    "dropout = 0.2\n",
    "\n",
    "learning_rate = 0.001\n",
    "weight_decay = 1e-4\n",
    "\n",
    "model_name=\"RNN\"\n",
    "optim_name=\"Adam\"\n",
    "loss_fn_name=\"CEL\"\n",
    "\n",
    "pretrained_model=pretrained_word2vec\n",
    "freeze_embedding=False,"
   ]
  },
  {
   "cell_type": "code",
   "execution_count": 10,
   "metadata": {},
   "outputs": [
    {
     "name": "stdout",
     "output_type": "stream",
     "text": [
      "doing with pretrained model!!!\n",
      "OCR_cnn(\n",
      "  (emb): Embedding(133, 200)\n",
      "  (cnn1): CNN(\n",
      "    (conv1d_list): ModuleList(\n",
      "      (0): Conv1d(200, 100, kernel_size=(15,), stride=(1,))\n",
      "      (1): Conv1d(200, 200, kernel_size=(21,), stride=(1,))\n",
      "      (2): Conv1d(200, 100, kernel_size=(15,), stride=(1,))\n",
      "    )\n",
      "  )\n",
      "  (cnn2): CNN(\n",
      "    (conv1d_list): ModuleList(\n",
      "      (0): Conv1d(200, 100, kernel_size=(15,), stride=(1,))\n",
      "      (1): Conv1d(200, 200, kernel_size=(21,), stride=(1,))\n",
      "      (2): Conv1d(200, 100, kernel_size=(15,), stride=(1,))\n",
      "    )\n",
      "  )\n",
      "  (fc1): Linear(in_features=800, out_features=300, bias=True)\n",
      "  (fc2): Linear(in_features=300, out_features=2, bias=True)\n",
      "  (dp1): Dropout(p=0.2, inplace=False)\n",
      "  (dp2): Dropout(p=0.2, inplace=False)\n",
      ")\n"
     ]
    }
   ],
   "source": [
    "trainer.set_seed(42)\n",
    "\n",
    "model, optimizer, loss_fn = init.initialize_model(\n",
    "    vocab_size=vocab_size,\n",
    "    embed_dim=embed_dim,\n",
    "    hidden_size=hidden_size,\n",
    "    num_classes=num_classes,\n",
    "    rnn_layers=rnn_layers,\n",
    "    num_filters=num_filters,\n",
    "    kernel_sizes=kernel_sizes,\n",
    "    dropout=dropout,\n",
    "    learning_rate=learning_rate,\n",
    "    weight_decay=weight_decay,\n",
    "    model_name=model_name,\n",
    "    optim_name=optim_name,\n",
    "    loss_fn_name=loss_fn_name,\n",
    "    pretrained_model=pretrained_model,\n",
    "    freeze_embedding=freeze_embedding,\n",
    "    device=device,\n",
    ")\n",
    "\n",
    "print(model)"
   ]
  },
  {
   "cell_type": "code",
   "execution_count": 11,
   "metadata": {},
   "outputs": [
    {
     "name": "stdout",
     "output_type": "stream",
     "text": [
      "Start training...\n",
      "\n",
      " Epoch  |  Train Loss  | Train Acc  | Val Loss | Val Acc | Elapsed\n",
      "--------------------------------------------------------------------------------\n",
      "   1    |   0.535848   | 71.757202  | 0.373186 | 83.19  | 19.73 \n",
      "   2    |   0.370221   | 82.193416  | 0.298440 | 86.74  | 19.29 \n",
      "   3    |   0.322161   | 84.995885  | 0.293312 | 86.93  | 19.28 \n",
      "   4    |   0.296760   | 86.358025  | 0.264258 | 88.74  | 19.29 \n",
      "   5    |   0.286257   | 86.905350  | 0.258040 | 88.74  | 19.29 \n",
      "   6    |   0.271404   | 87.769547  | 0.252147 | 88.41  | 19.40 \n",
      "   7    |   0.254484   | 88.576132  | 0.248873 | 89.89  | 19.49 \n",
      "   8    |   0.250893   | 88.979424  | 0.225216 | 90.48  | 19.28 \n",
      "   9    |   0.234286   | 89.823045  | 0.251214 | 89.56  | 19.35 \n",
      "  10    |   0.236620   | 89.744856  | 0.232611 | 90.44  | 19.29 \n",
      "  11    |   0.223621   | 90.559671  | 0.271627 | 88.93  | 19.29 \n",
      "  12    |   0.221485   | 90.600823  | 0.229682 | 90.85  | 19.31 \n",
      "  13    |   0.212018   | 90.934156  | 0.223947 | 90.70  | 19.32 \n",
      "  14    |   0.211050   | 91.452675  | 0.229513 | 90.56  | 19.30 \n",
      "  15    |   0.205729   | 91.390947  | 0.222633 | 91.41  | 19.26 \n",
      "  16    |   0.201074   | 91.724280  | 0.222430 | 90.85  | 19.24 \n",
      "  17    |   0.194804   | 91.917695  | 0.220854 | 91.70  | 19.21 \n",
      "  18    |   0.191748   | 91.921811  | 0.219313 | 92.04  | 19.21 \n",
      "  19    |   0.188545   | 92.238683  | 0.250967 | 90.15  | 19.20 \n",
      "  20    |   0.185876   | 92.201646  | 0.204006 | 92.22  | 19.20 \n",
      "  21    |   0.185153   | 92.279835  | 0.214704 | 91.41  | 19.17 \n",
      "  22    |   0.179110   | 92.403292  | 0.251259 | 90.37  | 19.28 \n",
      "  23    |   0.178149   | 92.707819  | 0.228375 | 91.22  | 19.28 \n",
      "  24    |   0.177693   | 92.691358  | 0.202023 | 92.48  | 19.28 \n",
      "  25    |   0.170751   | 93.020576  | 0.204007 | 91.85  | 19.26 \n",
      "  26    |   0.166896   | 93.222222  | 0.203587 | 92.48  | 19.28 \n",
      "  27    |   0.168606   | 93.016461  | 0.235594 | 91.44  | 19.29 \n",
      "  28    |   0.172751   | 92.909465  | 0.192691 | 93.04  | 19.27 \n",
      "  29    |   0.167365   | 93.329218  | 0.224875 | 92.26  | 19.27 \n",
      "  30    |   0.172323   | 92.905350  | 0.221890 | 91.81  | 19.28 \n",
      "  31    |   0.168243   | 93.185185  | 0.214887 | 91.63  | 19.28 \n",
      "  32    |   0.162603   | 93.267490  | 0.208043 | 92.67  | 19.28 \n",
      "  33    |   0.166239   | 93.333333  | 0.190277 | 93.22  | 19.29 \n",
      "  34    |   0.169372   | 93.115226  | 0.193247 | 93.22  | 19.30 \n",
      "  35    |   0.165274   | 93.403292  | 0.200687 | 92.44  | 19.26 \n",
      "  36    |   0.165930   | 93.329218  | 0.194432 | 92.89  | 19.29 \n",
      "  37    |   0.161169   | 93.395062  | 0.190577 | 93.37  | 19.28 \n",
      "  38    |   0.167154   | 93.308642  | 0.193211 | 93.33  | 19.32 \n",
      "  39    |   0.160983   | 93.617284  | 0.201431 | 92.48  | 19.26 \n",
      "  40    |   0.157090   | 93.576132  | 0.212815 | 92.41  | 19.25 \n",
      "\n",
      "\n",
      "Training complete! Best accuracy: 93.37%.\n"
     ]
    }
   ],
   "source": [
    "trainer.train(\n",
    "    epochs=epochs,\n",
    "    title=title,\n",
    "    writer=writer,\n",
    "    train_dataloader=train_dataloader,\n",
    "    val_dataloader=val_dataloader,\n",
    "    device=device,\n",
    "    model=model,\n",
    "    optimizer=optimizer,\n",
    "    loss_fn=loss_fn\n",
    ")"
   ]
  },
  {
   "cell_type": "code",
   "execution_count": 22,
   "metadata": {},
   "outputs": [
    {
     "name": "stdout",
     "output_type": "stream",
     "text": [
      "OCR_cnn(\n",
      "  (emb): Embedding(133, 200)\n",
      "  (cnn1): CNN(\n",
      "    (conv1d_list): ModuleList(\n",
      "      (0): Conv1d(200, 100, kernel_size=(15,), stride=(1,))\n",
      "      (1): Conv1d(200, 200, kernel_size=(21,), stride=(1,))\n",
      "      (2): Conv1d(200, 100, kernel_size=(14,), stride=(1,))\n",
      "    )\n",
      "  )\n",
      "  (cnn2): CNN(\n",
      "    (conv1d_list): ModuleList(\n",
      "      (0): Conv1d(200, 100, kernel_size=(15,), stride=(1,))\n",
      "      (1): Conv1d(200, 200, kernel_size=(21,), stride=(1,))\n",
      "      (2): Conv1d(200, 100, kernel_size=(14,), stride=(1,))\n",
      "    )\n",
      "  )\n",
      "  (fc1): Linear(in_features=800, out_features=300, bias=True)\n",
      "  (fc2): Linear(in_features=300, out_features=2, bias=True)\n",
      "  (dp1): Dropout(p=0.2, inplace=False)\n",
      "  (dp2): Dropout(p=0.2, inplace=False)\n",
      ")\n"
     ]
    }
   ],
   "source": [
    "model = mu.getModel('cnn-test10')\n",
    "print(model)"
   ]
  },
  {
   "cell_type": "code",
   "execution_count": 23,
   "metadata": {},
   "outputs": [
    {
     "name": "stdout",
     "output_type": "stream",
     "text": [
      "test loss:  0.17445512680957714\n",
      "test acc:  93.53333333333333\n",
      "saved precision and recall results to file!\n"
     ]
    },
    {
     "data": {
      "text/plain": [
       "(tensor([0., 1., 1.,  ..., 1., 0., 1.], device='cuda:0'),\n",
       " tensor([0., 1., 0.,  ..., 1., 0., 1.], device='cuda:0'))"
      ]
     },
     "execution_count": 23,
     "metadata": {},
     "output_type": "execute_result"
    }
   ],
   "source": [
    "tester.test(test_dataloader=test_dataloader,\n",
    "            device=device,\n",
    "            model=model,\n",
    "            title=title)"
   ]
  },
  {
   "cell_type": "code",
   "execution_count": 14,
   "metadata": {},
   "outputs": [],
   "source": [
    "# mu.graphModel(train_dataloader, model, writer)"
   ]
  },
  {
   "cell_type": "code",
   "execution_count": 15,
   "metadata": {},
   "outputs": [],
   "source": [
    "mu.saveModel(title, model)"
   ]
  },
  {
   "cell_type": "code",
   "execution_count": null,
   "metadata": {},
   "outputs": [],
   "source": []
  }
 ],
 "metadata": {
  "kernelspec": {
   "display_name": "Python 3.9.12 ('base')",
   "language": "python",
   "name": "python3"
  },
  "language_info": {
   "codemirror_mode": {
    "name": "ipython",
    "version": 3
   },
   "file_extension": ".py",
   "mimetype": "text/x-python",
   "name": "python",
   "nbconvert_exporter": "python",
   "pygments_lexer": "ipython3",
   "version": "3.9.12"
  },
  "orig_nbformat": 4,
  "vscode": {
   "interpreter": {
    "hash": "348b9cd948ce87438be2e622031b2ecfa29bc2d3ecc0fd03127b9a24b30227df"
   }
  }
 },
 "nbformat": 4,
 "nbformat_minor": 2
}
