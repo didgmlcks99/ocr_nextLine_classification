{
 "cells": [
  {
   "cell_type": "code",
   "execution_count": 1,
   "metadata": {},
   "outputs": [],
   "source": [
    "# 0 := delete \\n\n",
    "# 1 := leave as it is\n",
    "\n",
    "# model = gensim.models.Word2Vec.load('../../../pretrained_model/kor/ko.bin')\n",
    "\n",
    "# from hangul_utils import split_syllables, join_jamos\n",
    "# import gensim"
   ]
  },
  {
   "cell_type": "code",
   "execution_count": 2,
   "metadata": {},
   "outputs": [],
   "source": [
    "import torch\n",
    "from sklearn.model_selection import train_test_split\n",
    "import pandas as pd\n",
    "\n",
    "from torch.utils.tensorboard import SummaryWriter\n",
    "from datetime import datetime\n",
    "\n",
    "import data\n",
    "import bpe\n",
    "import utils\n",
    "import pretrained_model as pm\n",
    "import data_loader as dl\n",
    "import trainer\n",
    "import initializer as init\n",
    "import tester\n",
    "import model_util as mu"
   ]
  },
  {
   "cell_type": "code",
   "execution_count": 3,
   "metadata": {},
   "outputs": [
    {
     "name": "stdout",
     "output_type": "stream",
     "text": [
      "linearized complete!\n",
      "done tokenizing both data!\n",
      "saved ch2idx to file!\n",
      "encoding comlete!\n"
     ]
    }
   ],
   "source": [
    "first_np, second_np, label_np  = data.getData()\n",
    "first_np, second_np = utils.process_splitted(first_np, second_np)\n",
    "first_ls, second_ls, ch2idx, max_len = utils.tokenize(first_np, second_np)\n",
    "first2idx_np, second2idx_np = utils.encode(first_ls, second_ls, ch2idx, max_len)"
   ]
  },
  {
   "cell_type": "code",
   "execution_count": 4,
   "metadata": {},
   "outputs": [
    {
     "name": "stdout",
     "output_type": "stream",
     "text": [
      "There are 27 / 133 pretrained vectors found.\n"
     ]
    }
   ],
   "source": [
    "pretrained_word2vec = pm.load_pretrained_model(ch2idx)\n",
    "pretrained_word2vec = torch.tensor(pretrained_word2vec)"
   ]
  },
  {
   "cell_type": "code",
   "execution_count": 5,
   "metadata": {},
   "outputs": [],
   "source": [
    "train_first, test_first, train_second, test_second, train_labels, test_labels = train_test_split(\n",
    "    first2idx_np, second2idx_np, label_np, test_size = 0.1, random_state = 43\n",
    ")\n",
    "\n",
    "train_first, val_first, train_second, val_second, train_labels, val_labels = train_test_split(\n",
    "    train_first, train_second, train_labels, test_size = 0.1, random_state = 43\n",
    ")"
   ]
  },
  {
   "cell_type": "code",
   "execution_count": 6,
   "metadata": {},
   "outputs": [],
   "source": [
    "train_dataloader, val_dataloader, test_dataloader = dl.data_loader(train_first,\n",
    "                                                                   train_second,\n",
    "                                                                   val_first,\n",
    "                                                                   val_second,\n",
    "                                                                   test_first,\n",
    "                                                                   test_second,\n",
    "                                                                   train_labels,\n",
    "                                                                   val_labels,\n",
    "                                                                   test_labels,\n",
    "                                                                   batch_size=50)"
   ]
  },
  {
   "cell_type": "code",
   "execution_count": 7,
   "metadata": {},
   "outputs": [
    {
     "name": "stdout",
     "output_type": "stream",
     "text": [
      "There are 1 GPU(s) available.\n",
      "Device name: NVIDIA GeForce RTX 3070\n"
     ]
    }
   ],
   "source": [
    "# PyTorch TensorBoard support\n",
    "timestamp = datetime.now().strftime('%Y%m%d_%H%M%S')\n",
    "writer = SummaryWriter('rnn-ocr/tests')\n",
    "\n",
    "if torch.cuda.is_available():       \n",
    "    device = torch.device(\"cuda\")\n",
    "    print(f'There are {torch.cuda.device_count()} GPU(s) available.')\n",
    "    print('Device name:', torch.cuda.get_device_name(0))\n",
    "\n",
    "else:\n",
    "    print('No GPU available, using the CPU instead.')\n",
    "    device = torch.device(\"cpu\")"
   ]
  },
  {
   "cell_type": "code",
   "execution_count": 8,
   "metadata": {},
   "outputs": [],
   "source": [
    "# ====================\n",
    "# set parameters here\n",
    "# ====================\n",
    "\n",
    "title = 'rnn-test11'\n",
    "epochs = 40\n",
    "\n",
    "vocab_size=len(ch2idx)\n",
    "embed_dim = 200\n",
    "hidden_size = 100\n",
    "num_classes = 2\n",
    "rnn_layers = 1\n",
    "\n",
    "num_filters = [100, 200, 100]\n",
    "kernel_sizes = [15, 21, 14]\n",
    "\n",
    "dropout = 0.5\n",
    "\n",
    "learning_rate = 0.001\n",
    "weight_decay = 1e-4\n",
    "\n",
    "model_name=\"RNN\"\n",
    "optim_name=\"Adam\"\n",
    "loss_fn_name=\"CEL\"\n",
    "\n",
    "pretrained_model=pretrained_word2vec\n",
    "freeze_embedding=False,"
   ]
  },
  {
   "cell_type": "code",
   "execution_count": 9,
   "metadata": {},
   "outputs": [
    {
     "name": "stdout",
     "output_type": "stream",
     "text": [
      "doing with pretrained model!!!\n"
     ]
    },
    {
     "name": "stderr",
     "output_type": "stream",
     "text": [
      "/home/arise/anaconda3/lib/python3.9/site-packages/torch/nn/modules/rnn.py:62: UserWarning: dropout option adds dropout after all but last recurrent layer, so non-zero dropout expects num_layers greater than 1, but got dropout=0.5 and num_layers=1\n",
      "  warnings.warn(\"dropout option adds dropout after all but last \"\n"
     ]
    },
    {
     "name": "stdout",
     "output_type": "stream",
     "text": [
      "OCR_rnn(\n",
      "  (emb): Embedding(133, 200)\n",
      "  (lstm1): RNN(\n",
      "    (rnn): LSTM(200, 100, batch_first=True, dropout=0.5, bidirectional=True)\n",
      "  )\n",
      "  (lstm2): RNN(\n",
      "    (rnn): LSTM(200, 100, batch_first=True, dropout=0.5, bidirectional=True)\n",
      "  )\n",
      "  (fc1): Linear(in_features=400, out_features=300, bias=True)\n",
      "  (fc2): Linear(in_features=300, out_features=2, bias=True)\n",
      "  (dp1): Dropout(p=0.5, inplace=False)\n",
      "  (dp2): Dropout(p=0.5, inplace=False)\n",
      ")\n"
     ]
    }
   ],
   "source": [
    "trainer.set_seed(42)\n",
    "\n",
    "model, optimizer, loss_fn = init.initialize_model(\n",
    "    vocab_size=vocab_size,\n",
    "    embed_dim=embed_dim,\n",
    "    hidden_size=hidden_size,\n",
    "    num_classes=num_classes,\n",
    "    rnn_layers=rnn_layers,\n",
    "    num_filters=num_filters,\n",
    "    kernel_sizes=kernel_sizes,\n",
    "    dropout=dropout,\n",
    "    learning_rate=learning_rate,\n",
    "    weight_decay=weight_decay,\n",
    "    model_name=model_name,\n",
    "    optim_name=optim_name,\n",
    "    loss_fn_name=loss_fn_name,\n",
    "    pretrained_model=pretrained_model,\n",
    "    freeze_embedding=freeze_embedding,\n",
    "    device=device,\n",
    ")\n",
    "\n",
    "print(model)"
   ]
  },
  {
   "cell_type": "code",
   "execution_count": 10,
   "metadata": {},
   "outputs": [
    {
     "name": "stdout",
     "output_type": "stream",
     "text": [
      "Start training...\n",
      "\n",
      " Epoch  |  Train Loss  | Train Acc  | Val Loss | Val Acc | Elapsed\n",
      "--------------------------------------------------------------------------------\n",
      "   1    |   0.286497   | 89.111111  | 0.190453 | 93.67  | 37.98 \n",
      "   2    |   0.198404   | 93.156379  | 0.155225 | 94.96  | 38.14 \n",
      "   3    |   0.168802   | 94.102881  | 0.133788 | 95.15  | 37.95 \n",
      "   4    |   0.152975   | 94.283951  | 0.128070 | 95.74  | 37.94 \n",
      "   5    |   0.145939   | 94.526749  | 0.130579 | 95.37  | 38.12 \n",
      "   6    |   0.139404   | 94.781893  | 0.122297 | 95.44  | 38.21 \n",
      "   7    |   0.134683   | 95.090535  | 0.120333 | 95.22  | 38.04 \n",
      "   8    |   0.131919   | 95.148148  | 0.127021 | 95.52  | 38.27 \n",
      "   9    |   0.129080   | 95.275720  | 0.120378 | 95.33  | 38.33 \n",
      "  10    |   0.123248   | 95.469136  | 0.121046 | 95.67  | 38.24 \n",
      "  11    |   0.120397   | 95.576132  | 0.117072 | 95.78  | 37.95 \n",
      "  12    |   0.118503   | 95.740741  | 0.117028 | 95.93  | 38.11 \n",
      "  13    |   0.114057   | 95.724280  | 0.129221 | 95.63  | 37.94 \n",
      "  14    |   0.112387   | 95.925926  | 0.121215 | 95.81  | 38.33 \n",
      "  15    |   0.110016   | 96.094650  | 0.126801 | 95.89  | 38.27 \n",
      "  16    |   0.109087   | 96.102881  | 0.117642 | 95.56  | 38.10 \n",
      "  17    |   0.105849   | 96.057613  | 0.124921 | 95.63  | 38.30 \n",
      "  18    |   0.104916   | 96.246914  | 0.122859 | 95.74  | 38.33 \n",
      "  19    |   0.103765   | 96.312757  | 0.126798 | 95.89  | 38.16 \n",
      "  20    |   0.102348   | 96.246914  | 0.124367 | 95.89  | 37.97 \n",
      "  21    |   0.099698   | 96.378601  | 0.127742 | 95.15  | 38.11 \n",
      "  22    |   0.099420   | 96.427984  | 0.119559 | 95.74  | 37.94 \n",
      "  23    |   0.098033   | 96.530864  | 0.123566 | 95.85  | 38.06 \n",
      "  24    |   0.093358   | 96.691358  | 0.141286 | 95.56  | 38.04 \n",
      "  25    |   0.095688   | 96.658436  | 0.121084 | 95.96  | 38.16 \n",
      "  26    |   0.090391   | 96.925926  | 0.122337 | 96.30  | 37.90 \n",
      "  27    |   0.100083   | 96.251029  | 0.130010 | 95.78  | 38.14 \n",
      "  28    |   0.093087   | 96.654321  | 0.118942 | 96.15  | 38.02 \n",
      "  29    |   0.089700   | 96.786008  | 0.122968 | 96.00  | 38.22 \n",
      "  30    |   0.087971   | 96.794239  | 0.123699 | 96.44  | 38.20 \n",
      "  31    |   0.088152   | 96.958848  | 0.126344 | 95.85  | 38.24 \n",
      "  32    |   0.084920   | 96.983539  | 0.121177 | 96.15  | 38.24 \n",
      "  33    |   0.084485   | 97.024691  | 0.119660 | 95.93  | 38.20 \n",
      "  34    |   0.080252   | 97.127572  | 0.124101 | 95.85  | 38.30 \n",
      "  35    |   0.082135   | 97.135802  | 0.128348 | 96.00  | 37.95 \n",
      "  36    |   0.080491   | 97.164609  | 0.127264 | 95.63  | 37.96 \n",
      "  37    |   0.081522   | 97.069959  | 0.130882 | 95.78  | 38.10 \n",
      "  38    |   0.079096   | 97.189300  | 0.131292 | 95.63  | 38.14 \n",
      "  39    |   0.081743   | 97.098765  | 0.124740 | 96.07  | 38.17 \n",
      "  40    |   0.075919   | 97.386831  | 0.145266 | 95.70  | 38.02 \n",
      "\n",
      "\n",
      "Training complete! Best accuracy: 96.44%.\n"
     ]
    }
   ],
   "source": [
    "trainer.train(\n",
    "    epochs=epochs,\n",
    "    title=title,\n",
    "    writer=writer,\n",
    "    train_dataloader=train_dataloader,\n",
    "    val_dataloader=val_dataloader,\n",
    "    device=device,\n",
    "    model=model,\n",
    "    optimizer=optimizer,\n",
    "    loss_fn=loss_fn\n",
    ")"
   ]
  },
  {
   "cell_type": "code",
   "execution_count": 11,
   "metadata": {},
   "outputs": [
    {
     "name": "stdout",
     "output_type": "stream",
     "text": [
      "test loss:  0.1594668993493542\n",
      "test acc:  95.39999999999999\n",
      "saved precision and recall results to file!\n"
     ]
    },
    {
     "data": {
      "text/plain": [
       "(tensor([0., 1., 1.,  ..., 0., 0., 0.], device='cuda:0'),\n",
       " tensor([0., 1., 1.,  ..., 0., 0., 0.], device='cuda:0'))"
      ]
     },
     "execution_count": 11,
     "metadata": {},
     "output_type": "execute_result"
    }
   ],
   "source": [
    "tester.test(test_dataloader=test_dataloader,\n",
    "            device=device,\n",
    "            model=model,\n",
    "            title=title)"
   ]
  },
  {
   "cell_type": "code",
   "execution_count": 12,
   "metadata": {},
   "outputs": [],
   "source": [
    "# mu.graphModel(train_dataloader, model, writer)"
   ]
  },
  {
   "cell_type": "code",
   "execution_count": 13,
   "metadata": {},
   "outputs": [],
   "source": [
    "mu.saveModel(title, model)"
   ]
  },
  {
   "cell_type": "code",
   "execution_count": null,
   "metadata": {},
   "outputs": [],
   "source": []
  }
 ],
 "metadata": {
  "kernelspec": {
   "display_name": "Python 3.9.12 ('base')",
   "language": "python",
   "name": "python3"
  },
  "language_info": {
   "codemirror_mode": {
    "name": "ipython",
    "version": 3
   },
   "file_extension": ".py",
   "mimetype": "text/x-python",
   "name": "python",
   "nbconvert_exporter": "python",
   "pygments_lexer": "ipython3",
   "version": "3.9.12"
  },
  "orig_nbformat": 4,
  "vscode": {
   "interpreter": {
    "hash": "348b9cd948ce87438be2e622031b2ecfa29bc2d3ecc0fd03127b9a24b30227df"
   }
  }
 },
 "nbformat": 4,
 "nbformat_minor": 2
}
