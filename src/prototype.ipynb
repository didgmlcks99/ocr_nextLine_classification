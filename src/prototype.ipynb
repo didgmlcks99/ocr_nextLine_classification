{
 "cells": [
  {
   "cell_type": "code",
   "execution_count": 1,
   "metadata": {},
   "outputs": [],
   "source": [
    "import model_util as mu\n",
    "import predictor"
   ]
  },
  {
   "cell_type": "code",
   "execution_count": null,
   "metadata": {},
   "outputs": [],
   "source": [
    "model1 = mu.getModel('split_test_2_no_gudu')\n",
    "model2 = mu.getModel('slit_test_2_yes_gudu')"
   ]
  },
  {
   "cell_type": "code",
   "execution_count": null,
   "metadata": {},
   "outputs": [],
   "source": [
    "print(model1)"
   ]
  },
  {
   "cell_type": "code",
   "execution_count": null,
   "metadata": {},
   "outputs": [],
   "source": [
    "print(model2)"
   ]
  },
  {
   "cell_type": "code",
   "execution_count": null,
   "metadata": {},
   "outputs": [],
   "source": [
    "first = '선생님은 아이들을 만나면서 저마다 특별한 재주가 있다는 걸 알게 되었답니다'\n",
    "second = '그래서 앞으로는 스스로 작업을 만들어 재주를 맘껏 뽐내'\n",
    "\n",
    "predictor.predict(first, second, model1, 1)\n",
    "predictor.predict(first, second, model2, 1)"
   ]
  },
  {
   "cell_type": "code",
   "execution_count": null,
   "metadata": {},
   "outputs": [],
   "source": [
    "first = '선생님은 아이들을 만나면서 저마다'\n",
    "second = '특별한 재주가 있든 걸 알게 되었답니다',\n",
    "\n",
    "predict.predict(first, second, model1, 1)\n",
    "predict.predict(first, second, model2, 1)"
   ]
  },
  {
   "cell_type": "code",
   "execution_count": null,
   "metadata": {},
   "outputs": [],
   "source": [
    "first = '안녕하세요 제이름은'\n",
    "second = '양희찬입니다'\n",
    "\n",
    "predict.predict(first, second, model1, 1)\n",
    "predict.predict(first, second, model2, 1)"
   ]
  }
 ],
 "metadata": {
  "kernelspec": {
   "display_name": "Python 3.9.12 ('base')",
   "language": "python",
   "name": "python3"
  },
  "language_info": {
   "codemirror_mode": {
    "name": "ipython",
    "version": 3
   },
   "file_extension": ".py",
   "mimetype": "text/x-python",
   "name": "python",
   "nbconvert_exporter": "python",
   "pygments_lexer": "ipython3",
   "version": "3.9.12"
  },
  "orig_nbformat": 4,
  "vscode": {
   "interpreter": {
    "hash": "348b9cd948ce87438be2e622031b2ecfa29bc2d3ecc0fd03127b9a24b30227df"
   }
  }
 },
 "nbformat": 4,
 "nbformat_minor": 2
}
