{
 "cells": [
  {
   "cell_type": "code",
   "execution_count": 1,
   "metadata": {},
   "outputs": [],
   "source": [
    "# 0 := delete \\n\n",
    "# 1 := leave as it is\n",
    "\n",
    "# model = gensim.models.Word2Vec.load('../../../pretrained_model/kor/ko.bin')\n",
    "\n",
    "# from hangul_utils import split_syllables, join_jamos\n",
    "# import gensim"
   ]
  },
  {
   "cell_type": "code",
   "execution_count": 2,
   "metadata": {},
   "outputs": [],
   "source": [
    "import torch\n",
    "from sklearn.model_selection import train_test_split\n",
    "import pandas as pd\n",
    "\n",
    "from torch.utils.tensorboard import SummaryWriter\n",
    "from datetime import datetime\n",
    "\n",
    "import data\n",
    "import bpe\n",
    "import utils\n",
    "import pretrained_model as pm\n",
    "import data_loader as dl\n",
    "import trainer\n",
    "import initializer as init\n",
    "import tester\n",
    "import model_util as mu"
   ]
  },
  {
   "cell_type": "code",
   "execution_count": 3,
   "metadata": {},
   "outputs": [
    {
     "name": "stdout",
     "output_type": "stream",
     "text": [
      "linearized complete!\n",
      "done tokenizing both data!\n",
      "saved ch2idx to file!\n",
      "encoding comlete!\n"
     ]
    }
   ],
   "source": [
    "first_np, second_np, label_np  = data.getData()\n",
    "first_np, second_np = utils.process_splitted(first_np, second_np)\n",
    "first_ls, second_ls, ch2idx, max_len = utils.tokenize(first_np, second_np)\n",
    "first2idx_np, second2idx_np = utils.encode(first_ls, second_ls, ch2idx, max_len)"
   ]
  },
  {
   "cell_type": "code",
   "execution_count": 4,
   "metadata": {},
   "outputs": [
    {
     "name": "stdout",
     "output_type": "stream",
     "text": [
      "There are 27 / 133 pretrained vectors found.\n"
     ]
    }
   ],
   "source": [
    "pretrained_word2vec = pm.load_pretrained_model(ch2idx)\n",
    "pretrained_word2vec = torch.tensor(pretrained_word2vec)"
   ]
  },
  {
   "cell_type": "code",
   "execution_count": 5,
   "metadata": {},
   "outputs": [],
   "source": [
    "train_first, test_first, train_second, test_second, train_labels, test_labels = train_test_split(\n",
    "    first2idx_np, second2idx_np, label_np, test_size = 0.1, random_state = 43\n",
    ")\n",
    "\n",
    "train_first, val_first, train_second, val_second, train_labels, val_labels = train_test_split(\n",
    "    train_first, train_second, train_labels, test_size = 0.1, random_state = 43\n",
    ")"
   ]
  },
  {
   "cell_type": "code",
   "execution_count": 6,
   "metadata": {},
   "outputs": [],
   "source": [
    "train_dataloader, val_dataloader, test_dataloader = dl.data_loader(train_first,\n",
    "                                                                   train_second,\n",
    "                                                                   val_first,\n",
    "                                                                   val_second,\n",
    "                                                                   test_first,\n",
    "                                                                   test_second,\n",
    "                                                                   train_labels,\n",
    "                                                                   val_labels,\n",
    "                                                                   test_labels,\n",
    "                                                                   batch_size=50)"
   ]
  },
  {
   "cell_type": "code",
   "execution_count": 7,
   "metadata": {},
   "outputs": [
    {
     "name": "stdout",
     "output_type": "stream",
     "text": [
      "There are 1 GPU(s) available.\n",
      "Device name: NVIDIA GeForce RTX 3070\n"
     ]
    }
   ],
   "source": [
    "# PyTorch TensorBoard support\n",
    "timestamp = datetime.now().strftime('%Y%m%d_%H%M%S')\n",
    "writer = SummaryWriter('temp/tests')\n",
    "\n",
    "if torch.cuda.is_available():       \n",
    "    device = torch.device(\"cuda\")\n",
    "    print(f'There are {torch.cuda.device_count()} GPU(s) available.')\n",
    "    print('Device name:', torch.cuda.get_device_name(0))\n",
    "\n",
    "else:\n",
    "    print('No GPU available, using the CPU instead.')\n",
    "    device = torch.device(\"cpu\")"
   ]
  },
  {
   "cell_type": "code",
   "execution_count": 8,
   "metadata": {},
   "outputs": [],
   "source": [
    "# ====================\n",
    "# set parameters here\n",
    "# ====================\n",
    "\n",
    "title = 'cnn-test1'\n",
    "epochs = 40\n",
    "\n",
    "vocab_size=len(ch2idx)\n",
    "embed_dim = 200\n",
    "hidden_size = 100\n",
    "num_classes = 2\n",
    "rnn_layers = 1\n",
    "\n",
    "num_filters = [100, 100, 100]\n",
    "kernel_sizes = [21, 21, 21]\n",
    "\n",
    "dropout = 0.0\n",
    "\n",
    "learning_rate = 0.001\n",
    "weight_decay = 1e-4\n",
    "\n",
    "model_name=\"CNN\"\n",
    "optim_name=\"Adam\"\n",
    "loss_fn_name=\"CEL\"\n",
    "\n",
    "pretrained_model=pretrained_word2vec\n",
    "freeze_embedding=False,"
   ]
  },
  {
   "cell_type": "code",
   "execution_count": 9,
   "metadata": {},
   "outputs": [
    {
     "name": "stdout",
     "output_type": "stream",
     "text": [
      "doing with pretrained model!!!\n",
      "OCR_cnn(\n",
      "  (emb): Embedding(133, 200)\n",
      "  (cnn1): CNN(\n",
      "    (conv1d_list): ModuleList(\n",
      "      (0): Conv1d(200, 100, kernel_size=(9,), stride=(1,))\n",
      "      (1): Conv1d(200, 100, kernel_size=(9,), stride=(1,))\n",
      "    )\n",
      "    (dropout): Dropout(p=0.5, inplace=False)\n",
      "  )\n",
      "  (cnn2): CNN(\n",
      "    (conv1d_list): ModuleList(\n",
      "      (0): Conv1d(200, 100, kernel_size=(9,), stride=(1,))\n",
      "      (1): Conv1d(200, 100, kernel_size=(9,), stride=(1,))\n",
      "    )\n",
      "    (dropout): Dropout(p=0.5, inplace=False)\n",
      "  )\n",
      "  (fc1): Linear(in_features=400, out_features=300, bias=True)\n",
      "  (fc2): Linear(in_features=300, out_features=2, bias=True)\n",
      "  (dp1): Dropout(p=0.5, inplace=False)\n",
      "  (dp2): Dropout(p=0.5, inplace=False)\n",
      ")\n"
     ]
    }
   ],
   "source": [
    "trainer.set_seed(42)\n",
    "\n",
    "model, optimizer, loss_fn = init.initialize_model(\n",
    "    vocab_size=vocab_size,\n",
    "    embed_dim=embed_dim,\n",
    "    hidden_size=hidden_size,\n",
    "    num_classes=num_classes,\n",
    "    rnn_layers=rnn_layers,\n",
    "    num_filters=num_filters,\n",
    "    kernel_sizes=kernel_sizes,\n",
    "    dropout=dropout,\n",
    "    learning_rate=learning_rate,\n",
    "    weight_decay=weight_decay,\n",
    "    model_name=model_name,\n",
    "    optim_name=optim_name,\n",
    "    loss_fn_name=loss_fn_name,\n",
    "    pretrained_model=pretrained_model,\n",
    "    freeze_embedding=freeze_embedding,\n",
    "    device=device,\n",
    ")\n",
    "\n",
    "print(model)"
   ]
  },
  {
   "cell_type": "code",
   "execution_count": 10,
   "metadata": {},
   "outputs": [
    {
     "name": "stdout",
     "output_type": "stream",
     "text": [
      "Start training...\n",
      "\n",
      " Epoch  |  Train Loss  | Train Acc  | Val Loss | Val Acc | Elapsed\n",
      "--------------------------------------------------------------------------------\n",
      "   1    |   0.668461   | 59.732510  | 0.565014 | 69.89  |  9.12 \n",
      "   2    |   0.581172   | 68.094650  | 0.524993 | 73.63  |  9.13 \n",
      "   3    |   0.545897   | 71.460905  | 0.473946 | 77.07  |  9.11 \n",
      "   4    |   0.517235   | 73.572016  | 0.448672 | 77.00  |  9.16 \n",
      "   5    |   0.492956   | 75.123457  | 0.392489 | 81.93  |  9.07 \n",
      "   6    |   0.466830   | 76.263374  | 0.403125 | 80.26  |  9.06 \n",
      "   7    |   0.458219   | 76.983539  | 0.405117 | 78.11  |  9.09 \n",
      "   8    |   0.454210   | 77.390947  | 0.373339 | 82.96  |  9.10 \n",
      "   9    |   0.449901   | 77.641975  | 0.368865 | 84.52  |  9.12 \n",
      "  10    |   0.438141   | 78.427984  | 0.378027 | 83.15  |  9.13 \n",
      "  11    |   0.438951   | 78.119342  | 0.353513 | 84.22  |  9.13 \n",
      "  12    |   0.433598   | 78.823045  | 0.376922 | 83.15  |  9.15 \n",
      "  13    |   0.432235   | 79.000000  | 0.366821 | 81.22  |  9.15 \n",
      "  14    |   0.428476   | 79.238683  | 0.345035 | 86.00  |  9.15 \n",
      "  15    |   0.425204   | 79.452675  | 0.341065 | 86.78  |  9.18 \n",
      "  16    |   0.421020   | 79.687243  | 0.348268 | 85.67  |  9.19 \n",
      "  17    |   0.417072   | 80.403292  | 0.340176 | 85.44  |  9.10 \n",
      "  18    |   0.413147   | 80.292181  | 0.327261 | 85.41  |  8.97 \n",
      "  19    |   0.411506   | 80.551440  | 0.326066 | 87.19  |  9.22 \n",
      "  20    |   0.410113   | 80.456790  | 0.321517 | 86.30  |  9.23 \n",
      "  21    |   0.408819   | 80.687243  | 0.311894 | 86.93  |  9.23 \n",
      "  22    |   0.409206   | 80.864198  | 0.306808 | 87.93  |  9.24 \n",
      "  23    |   0.404131   | 81.148148  | 0.325178 | 87.41  |  9.23 \n",
      "  24    |   0.401000   | 81.144033  | 0.314213 | 85.44  |  9.25 \n",
      "  25    |   0.395695   | 81.386831  | 0.313081 | 87.56  |  9.26 \n",
      "  26    |   0.395992   | 81.452675  | 0.303907 | 87.89  |  9.27 \n",
      "  27    |   0.397161   | 81.534979  | 0.302802 | 87.70  |  9.28 \n",
      "  28    |   0.396192   | 81.670782  | 0.318975 | 89.41  |  9.28 \n",
      "  29    |   0.390706   | 81.983539  | 0.296061 | 88.85  |  9.28 \n",
      "  30    |   0.393131   | 81.868313  | 0.320989 | 88.41  |  9.28 \n",
      "  31    |   0.384661   | 82.308642  | 0.302615 | 87.37  |  9.28 \n",
      "  32    |   0.385965   | 82.666667  | 0.309734 | 87.78  |  9.29 \n",
      "  33    |   0.389263   | 81.769547  | 0.298993 | 88.44  |  9.30 \n",
      "  34    |   0.380828   | 82.576132  | 0.302853 | 88.19  |  9.30 \n"
     ]
    },
    {
     "ename": "KeyboardInterrupt",
     "evalue": "",
     "output_type": "error",
     "traceback": [
      "\u001b[0;31m---------------------------------------------------------------------------\u001b[0m",
      "\u001b[0;31mKeyboardInterrupt\u001b[0m                         Traceback (most recent call last)",
      "\u001b[1;32m/home/arise/auto/ocr/src/main.ipynb Cell 10\u001b[0m in \u001b[0;36m<cell line: 1>\u001b[0;34m()\u001b[0m\n\u001b[0;32m----> <a href='vscode-notebook-cell:/home/arise/auto/ocr/src/main.ipynb#X12sZmlsZQ%3D%3D?line=0'>1</a>\u001b[0m trainer\u001b[39m.\u001b[39;49mtrain(\n\u001b[1;32m      <a href='vscode-notebook-cell:/home/arise/auto/ocr/src/main.ipynb#X12sZmlsZQ%3D%3D?line=1'>2</a>\u001b[0m     epochs\u001b[39m=\u001b[39;49mepochs,\n\u001b[1;32m      <a href='vscode-notebook-cell:/home/arise/auto/ocr/src/main.ipynb#X12sZmlsZQ%3D%3D?line=2'>3</a>\u001b[0m     title\u001b[39m=\u001b[39;49mtitle,\n\u001b[1;32m      <a href='vscode-notebook-cell:/home/arise/auto/ocr/src/main.ipynb#X12sZmlsZQ%3D%3D?line=3'>4</a>\u001b[0m     writer\u001b[39m=\u001b[39;49mwriter,\n\u001b[1;32m      <a href='vscode-notebook-cell:/home/arise/auto/ocr/src/main.ipynb#X12sZmlsZQ%3D%3D?line=4'>5</a>\u001b[0m     train_dataloader\u001b[39m=\u001b[39;49mtrain_dataloader,\n\u001b[1;32m      <a href='vscode-notebook-cell:/home/arise/auto/ocr/src/main.ipynb#X12sZmlsZQ%3D%3D?line=5'>6</a>\u001b[0m     val_dataloader\u001b[39m=\u001b[39;49mval_dataloader,\n\u001b[1;32m      <a href='vscode-notebook-cell:/home/arise/auto/ocr/src/main.ipynb#X12sZmlsZQ%3D%3D?line=6'>7</a>\u001b[0m     device\u001b[39m=\u001b[39;49mdevice,\n\u001b[1;32m      <a href='vscode-notebook-cell:/home/arise/auto/ocr/src/main.ipynb#X12sZmlsZQ%3D%3D?line=7'>8</a>\u001b[0m     model\u001b[39m=\u001b[39;49mmodel,\n\u001b[1;32m      <a href='vscode-notebook-cell:/home/arise/auto/ocr/src/main.ipynb#X12sZmlsZQ%3D%3D?line=8'>9</a>\u001b[0m     optimizer\u001b[39m=\u001b[39;49moptimizer,\n\u001b[1;32m     <a href='vscode-notebook-cell:/home/arise/auto/ocr/src/main.ipynb#X12sZmlsZQ%3D%3D?line=9'>10</a>\u001b[0m     loss_fn\u001b[39m=\u001b[39;49mloss_fn\n\u001b[1;32m     <a href='vscode-notebook-cell:/home/arise/auto/ocr/src/main.ipynb#X12sZmlsZQ%3D%3D?line=10'>11</a>\u001b[0m )\n",
      "File \u001b[0;32m~/auto/ocr/src/trainer.py:61\u001b[0m, in \u001b[0;36mtrain\u001b[0;34m(epochs, title, writer, train_dataloader, val_dataloader, device, model, optimizer, loss_fn)\u001b[0m\n\u001b[1;32m     59\u001b[0m \u001b[39m# Compute loss and accumulate the loss values\u001b[39;00m\n\u001b[1;32m     60\u001b[0m loss \u001b[39m=\u001b[39m loss_fn(logits, labels)\n\u001b[0;32m---> 61\u001b[0m tot_train_loss\u001b[39m.\u001b[39mappend(loss\u001b[39m.\u001b[39;49mitem())\n\u001b[1;32m     63\u001b[0m \u001b[39m# Get the predictions\u001b[39;00m\n\u001b[1;32m     64\u001b[0m preds \u001b[39m=\u001b[39m torch\u001b[39m.\u001b[39margmax(logits, dim\u001b[39m=\u001b[39m\u001b[39m1\u001b[39m)\u001b[39m.\u001b[39mflatten()\n",
      "\u001b[0;31mKeyboardInterrupt\u001b[0m: "
     ]
    }
   ],
   "source": [
    "trainer.train(\n",
    "    epochs=epochs,\n",
    "    title=title,\n",
    "    writer=writer,\n",
    "    train_dataloader=train_dataloader,\n",
    "    val_dataloader=val_dataloader,\n",
    "    device=device,\n",
    "    model=model,\n",
    "    optimizer=optimizer,\n",
    "    loss_fn=loss_fn\n",
    ")"
   ]
  },
  {
   "cell_type": "code",
   "execution_count": null,
   "metadata": {},
   "outputs": [],
   "source": [
    "tester.test(test_dataloader=test_dataloader,\n",
    "            device=device,\n",
    "            model=model,\n",
    "            title=title)"
   ]
  },
  {
   "cell_type": "code",
   "execution_count": null,
   "metadata": {},
   "outputs": [],
   "source": [
    "mu.graphModel(train_dataloader, model, writer)"
   ]
  },
  {
   "cell_type": "code",
   "execution_count": null,
   "metadata": {},
   "outputs": [],
   "source": [
    "mu.saveModel(title, model)"
   ]
  },
  {
   "cell_type": "code",
   "execution_count": null,
   "metadata": {},
   "outputs": [],
   "source": []
  }
 ],
 "metadata": {
  "kernelspec": {
   "display_name": "Python 3.9.12 ('base')",
   "language": "python",
   "name": "python3"
  },
  "language_info": {
   "codemirror_mode": {
    "name": "ipython",
    "version": 3
   },
   "file_extension": ".py",
   "mimetype": "text/x-python",
   "name": "python",
   "nbconvert_exporter": "python",
   "pygments_lexer": "ipython3",
   "version": "3.9.12"
  },
  "orig_nbformat": 4,
  "vscode": {
   "interpreter": {
    "hash": "348b9cd948ce87438be2e622031b2ecfa29bc2d3ecc0fd03127b9a24b30227df"
   }
  }
 },
 "nbformat": 4,
 "nbformat_minor": 2
}
